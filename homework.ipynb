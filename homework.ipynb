{
 "cells": [
  {
   "cell_type": "markdown",
   "metadata": {},
   "source": [
    "# SDDP homework\n",
    "\n",
    "## Instructions:\n",
    "\n",
    "Solve the questions in-line, then go `File > Download as > HTML (.html)` and submit the HTML as your solution.\n",
    "\n",
    "## Problem\n",
    "\n",
    "As we explained in class, one version of the hydro-thermal scheduling problem has a collection of generators (hydro and thermal) supplying power at least cost to meet demand over time.\n",
    "\n",
    "A related problem focuses on a single hydro generator. Because they are small, they are a _price taker_ in the market; the market offers a price and the agent is free to sell as much power as it wants at that price.\n",
    "\n",
    "This example is inspired by a hydro power station somewhere in the world. To retain confidentiality, all the data has been normalized, some of the data is missing, and the rest has been perterbed and then rounded to a lower fidelity.\n",
    "\n",
    "Assumptions\n",
    "\n",
    "1. We have a single reservoir with a minimum volume 0 units and a maximum volume of 1 unit\n",
    "2. Each week, the agent can choose to turbine a quantity of water through the turbine to produce electicity. The rate at which water (flow) is converted into electricity can be modelled by a piecewise-linear concave function, i.e.,:\n",
    "   - `generation(flow) = min_i{intercept_i + slope_i * flow}`\n",
    "   - Data for the intercept and slope coefficients are provided in the `data.json` file in the `generation_intercept` and `generation_slope` fields.\n",
    "3. In addition to turbining water, the agent can _spill_ water over the top of their reservoir.\n",
    "4. Each week, the inflow into the reservoir can be modelled by a stagewise-independent random variable. \n",
    "   - The support and probability mass of this random variable is provided in the `data.json` file in the `inflow_support` and `inflow_probabiltiy` fields.\n",
    "5. Each week, the price at which the agent can sell electricity can be modelled by a stagewise-independent random variable. \n",
    "   - The support and probability mass of this random variable is provided in the `data.json` file in the `price_support` and `price_probabiltiy` fields.\n",
    "6. The inflow and price in each week are independent of each other.\n",
    "7. At the start of week 1, there is 0.5 units of water in the reservoir.\n",
    "8. The generator has a maximum production capacity of 1 unit of electricity per week. This is the power output, not the capacity of flow through the turbine.\n",
    "9. The agent seeks a dispatch policy with a planning horizon of 1 year.\n",
    "10. To ensure that they are in a reasonable state for the following year, the agent wants to ensure that the end the year with at least as much water as they started. The violation of this constraint is penalized at a rate of \\$10,000/unit of water."
   ]
  },
  {
   "cell_type": "code",
   "execution_count": null,
   "metadata": {},
   "outputs": [],
   "source": [
    "# Here is code to import data from a JSON file.\n",
    "using JSON\n",
    "data = JSON.parsefile(\"large-scale.json\")"
   ]
  },
  {
   "cell_type": "markdown",
   "metadata": {},
   "source": [
    "## Question 1: formulate the problem\n",
    "\n",
    "- What are the stages of the problem?\n",
    "- What is/are the state variable(s) of this problem? \n",
    "    - Variable bounds?\n",
    "    - Their initial conditions?\n",
    "- What is/are the control variable(s) of this problem?\n",
    "    - Variable bounds?\n",
    "- What is/are the noise term(s) of this problem? \n",
    "    - Hint: the noise must be a single random variable, but it can be multi-dimensional.\n",
    "- What is the transition function of each stage?\n",
    "- What are the constraints of each stage?\n",
    "- What is the stage objective of each stage?\n",
    "    - Are we maximising or minimising?\n",
    "    \n",
    "### Answers\n",
    "\n",
    "Double click to edit this box."
   ]
  },
  {
   "cell_type": "markdown",
   "metadata": {},
   "source": [
    "## Question 2: derive a valid bound for the problem\n",
    "\n",
    "Hint: if we are minimising (maximising), we want a valid lower (upper) bound. (The Big-M on the cost-to-go variable.)\n",
    "\n",
    "### Answer"
   ]
  },
  {
   "cell_type": "markdown",
   "metadata": {},
   "source": [
    "## Question 3: formulate this problem using SDDP.jl\n",
    "\n",
    "Hints: \n",
    "- Documentation: https://odow.github.io/SDDP.jl/latest/\n",
    "- Examples: https://github.com/odow/SDDP.jl/tree/master/examples"
   ]
  },
  {
   "cell_type": "code",
   "execution_count": null,
   "metadata": {},
   "outputs": [],
   "source": []
  },
  {
   "cell_type": "markdown",
   "metadata": {},
   "source": [
    "## Question 4: train a policy\n",
    "\n",
    "SDDP.jl can train policies using the single-cut formulation, or the multi-cut formulation. \n",
    "To train usinng single-cut, pass `cut_type = SDDP.SINGLE_CUT` to `SDDP.train`. To use multi-cut, pass `cut_type = SDDP.MULTI_CUT`.\n",
    "\n",
    "- Train a policy for a fixed number of iterations, then answer the following questions:\n",
    " - Is single-cut or multi-cut faster?\n",
    " - Which formulation results in a tighter lower bound?\n",
    "\n",
    "Hints: \n",
    "- A reasonable iteration limit is 1000 iterations.\n",
    "- If you train a policy twice, the cuts are added to the same model! You will need to rebuild the model in the previous cell if you want to try different training parameters.\n",
    "- To ensure that both models train using the same data, we have provided code to set the random seed."
   ]
  },
  {
   "cell_type": "code",
   "execution_count": null,
   "metadata": {},
   "outputs": [],
   "source": [
    "import Random\n",
    "Random.seed!(12345);\n",
    "\n",
    "# Training code to go here:"
   ]
  },
  {
   "cell_type": "markdown",
   "metadata": {},
   "source": [
    "## Question 5: simulate the policy\n",
    "\n",
    "Perform a Monte Carlo simulation of the policy using `SDDP.simulate` with 1000 replications, then answer the following questions:\n",
    "\n",
    "- Compute a 95% confidence interval for the upper bound (if minimizing), otherwise lower bound. \n",
    "   - Has the problem converged?\n",
    "- Provide a 95% confidence interval for the expected quantity of generation during the year.\n",
    " \n",
    "Hints: \n",
    " - You will need `using Statistics` to compute the `mean` and `std`.\n",
    " - To ensure that the simulation is repeatable, set the random seed to `123456`."
   ]
  },
  {
   "cell_type": "code",
   "execution_count": null,
   "metadata": {},
   "outputs": [],
   "source": []
  },
  {
   "cell_type": "markdown",
   "metadata": {},
   "source": [
    "## Question 6: plot the policy\n",
    "\n",
    "Using the simulations from Question 5 and the `SDDP.publication_plot` function, plot the quantity of water in the reservoir over time, and the price of electricity. \n",
    "\n",
    "Make sure to label your axes!\n",
    "\n",
    "Hints: \n",
    " - https://odow.github.io/SDDP.jl/latest/tutorial/05_plotting/\n",
    " - The return value of the `SDDP.simulate` call should have the prices in there somewhere. Dig around to understand the structure of the result and what things are stored."
   ]
  },
  {
   "cell_type": "code",
   "execution_count": null,
   "metadata": {},
   "outputs": [],
   "source": [
    "using Plots  # You need to use this library.\n"
   ]
  }
 ],
 "metadata": {
  "@webio": {
   "lastCommId": null,
   "lastKernelId": null
  },
  "kernelspec": {
   "display_name": "Julia 1.1.0",
   "language": "julia",
   "name": "julia-1.1"
  },
  "language_info": {
   "file_extension": ".jl",
   "mimetype": "application/julia",
   "name": "julia",
   "version": "1.1.0"
  }
 },
 "nbformat": 4,
 "nbformat_minor": 2
}
