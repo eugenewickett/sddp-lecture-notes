{
 "cells": [
  {
   "cell_type": "markdown",
   "metadata": {},
   "source": [
    "# JuMP\n",
    "\n",
    "JuMP is an _algebraic modeling language_ in Julia.\n",
    "\n",
    "## Useful links\n",
    "\n",
    "- Website: https://jump.dev\n",
    "- Installation: https://www.juliaopt.org/JuMP.jl/stable/installation/\n",
    "- Quickstart: https://www.juliaopt.org/JuMP.jl/stable/quickstart/\n",
    "- Tutorials: https://github.com/JuliaOpt/JuMPTutorials.jl\n",
    "- MathOptInterface. What? Why? How? http://www.optimization-online.org/DB_HTML/2020/02/7609.html"
   ]
  },
  {
   "cell_type": "code",
   "execution_count": 4,
   "metadata": {
    "scrolled": true
   },
   "outputs": [
    {
     "name": "stdout",
     "output_type": "stream",
     "text": [
      "Academic license - for non-commercial use only\n",
      "Max 5 x + 3 y\n",
      "Subject to\n",
      " x + 5 y ≤ 3.0\n",
      " x ≥ 0.0\n",
      " y ≥ 0.0\n",
      " x ≤ 2.0\n",
      " y ≤ 30.0\n",
      "\n"
     ]
    }
   ],
   "source": [
    "using JuMP\n",
    "using Gurobi\n",
    "\n",
    "model = Model(with_optimizer(Gurobi.Optimizer))\n",
    "set_silent(model)\n",
    "\n",
    "@variable(model, 0 <= x <= 2)\n",
    "@variable(model, 0 <= y <= 30)\n",
    "\n",
    "@objective(model, Max, 5x + 3y)\n",
    "\n",
    "@constraint(model, my_con, x + 5y <= 3)\n",
    "\n",
    "println(model)"
   ]
  },
  {
   "cell_type": "code",
   "execution_count": 6,
   "metadata": {},
   "outputs": [
    {
     "name": "stdout",
     "output_type": "stream",
     "text": [
      "\n",
      "JuMP.termination_status(model) = OPTIMAL::TerminationStatusCode = 1\n",
      "primal_status(model) = FEASIBLE_POINT::ResultStatusCode = 1\n",
      "dual_status(model) = FEASIBLE_POINT::ResultStatusCode = 1\n",
      "objective_value(model) = 10.6\n",
      "value(x) = 2.0\n",
      "value(y) = 0.2\n",
      "dual(my_con) = -0.6\n",
      "shadow_price(my_con) = 0.6\n"
     ]
    },
    {
     "data": {
      "text/plain": [
       "0.6"
      ]
     },
     "execution_count": 6,
     "metadata": {},
     "output_type": "execute_result"
    }
   ],
   "source": [
    "optimize!(model)\n",
    "\n",
    "println()\n",
    "\n",
    "@show JuMP.termination_status(model)\n",
    "@show primal_status(model)\n",
    "@show dual_status(model)\n",
    "@show objective_value(model)\n",
    "@show value(x)\n",
    "@show value(y)\n",
    "@show dual(my_con)\n",
    "@show shadow_price(my_con)"
   ]
  },
  {
   "cell_type": "markdown",
   "metadata": {},
   "source": [
    "JuMP's not just for linear programming. You can also create crazy models!"
   ]
  },
  {
   "cell_type": "code",
   "execution_count": 16,
   "metadata": {},
   "outputs": [
    {
     "data": {
      "text/latex": [
       "$$ \\begin{alignat*}{1}\\min\\quad & 0.25 Y_{1,1} + 0.5 Y_{1,2} + 0.25 Y_{2,2} + x_{1} + x_{2} + x_{3} + x_{4}\\\\\n",
       "\\text{Subject to} \\quad & \\begin{bmatrix}\n",
       "Y_{1,1} & Y_{1,2}\\\\\n",
       "\\cdot & Y_{2,2}\\\\\n",
       "\\end{bmatrix} \\in PSDCone()\\\\\n",
       " & x_{1} \\geq 1.0\\\\\n",
       " & x_{2} \\geq 2.0\\\\\n",
       " & x_{3} \\geq 3.0\\\\\n",
       " & x_{4} \\geq 4.0\\\\\n",
       " & (sin(x_{1}) + sin(x_{2}) + sin(x_{3}) + sin(x_{4})) - 3.141592653589793 = 0\\\\\n",
       "\\end{alignat*}\n",
       " $$"
      ],
      "text/plain": [
       "A JuMP Model\n",
       "Minimization problem with:\n",
       "Variables: 7\n",
       "Objective function type: GenericAffExpr{Float64,VariableRef}\n",
       "`Array{VariableRef,1}`-in-`MathOptInterface.PositiveSemidefiniteConeTriangle`: 1 constraint\n",
       "`VariableRef`-in-`MathOptInterface.GreaterThan{Float64}`: 4 constraints\n",
       "Nonlinear: 1 constraint\n",
       "Model mode: AUTOMATIC\n",
       "CachingOptimizer state: NO_OPTIMIZER\n",
       "Solver name: No optimizer attached.\n",
       "Names registered in the model: Y, x"
      ]
     },
     "execution_count": 16,
     "metadata": {},
     "output_type": "execute_result"
    }
   ],
   "source": [
    "model = Model()\n",
    "@variable(model, x[i = 1:4] >= i)\n",
    "@variable(model, Y[1:2, 1:2], PSD)\n",
    "@NLconstraint(model, sum(sin(x[i]) for i = 1:4) == π)\n",
    "@objective(model, Min, [0.5, 0.5]' * Y * [0.5, 0.5] + sum(x))\n",
    "model"
   ]
  },
  {
   "cell_type": "markdown",
   "metadata": {},
   "source": [
    "## Why should I use JuMP over...\n",
    "\n",
    "- gurobipy? \n",
    "\n",
    "Not bound to one particular solver (but can still use Gurobi). Also supports nonlinear programming and conic problems (semidefinite programming, etc.)\n",
    "\n",
    "- AMPL/GAMS/AIMMS/etc.?\n",
    "\n",
    "Embedded in a high-level language. \n",
    "\n",
    "- PuLP?\n",
    "\n",
    "Supports nonlinear, conic, callbacks, etc.\n",
    "\n",
    "- Pyomo?\n",
    "\n",
    "Interfaces with solvers via in-memory APIs. Can be orders of magnitude faster if you are solving problems sequentially.\n",
    "\n",
    "- C/C++ APIs for CPLEX/Gurobi/...\n",
    "\n",
    "Faster development time."
   ]
  },
  {
   "cell_type": "markdown",
   "metadata": {},
   "source": [
    "# SDDP.jl\n",
    "\n",
    "## Hydro-thermal scheduling\n",
    "\n",
    "## Problem Description\n",
    "\n",
    "In a hydro-thermal problem, the agent controls a hydro-electric generator and reservoir.\n",
    "\n",
    "Each time period, they need to choose a generation quantity from thermal `g_t`, and hydro\n",
    "`g_h`, in order to meed demand `w_d`, which is a stagewise-independent random variable.\n",
    "\n",
    "The state variable, `x`, is the quantity of water in the reservoir at the start of each\n",
    "time period, and it has a minimum level of 5 units and a maximum level of 15 units. \n",
    "\n",
    "We\n",
    "assume that there are 10 units of water in the reservoir at the start of time, so that\n",
    "`x_0 = 10`. \n",
    "\n",
    "The state-variable is connected through time by the water balance constraint:\n",
    "`x.out = x.in - g_h - s + w_i,` where `x.out` is the quantity of water at the end of the\n",
    "time period, `x.in` is the quantity of water at the start of the time period, `s` is the\n",
    "quantity of water spilled from the reservoir, and `w_i` is a stagewise-independent random\n",
    "variable that represents the inflow into the reservoir during the time period.\n",
    "\n",
    "We assume that there are three stages, `t=1, 2, 3`, representing summer-fall, winter, and\n",
    "spring.\n",
    "\n",
    "In each stage, the agent incurs the cost of spillage, plus the cost of thermal generation.\n",
    "\n",
    "We assume that the cost of thermal generation is dependent on the stage `t = 1, 2, 3`, and\n",
    "that in each stage, `w` is drawn from the set `(w_i, w_d) = {(0, 7.5), (3, 5), (10, 2.5)}`\n",
    "with equal probability."
   ]
  },
  {
   "cell_type": "code",
   "execution_count": 8,
   "metadata": {},
   "outputs": [
    {
     "data": {
      "text/plain": [
       "3-element Array{Float64,1}:\n",
       " 0.3333333333333333\n",
       " 0.3333333333333333\n",
       " 0.3333333333333333"
      ]
     },
     "execution_count": 8,
     "metadata": {},
     "output_type": "execute_result"
    }
   ],
   "source": [
    "const x_lower = 5\n",
    "const x_upper = 15\n",
    "const x_0 = 10\n",
    "const T = 3\n",
    "const Ω = [(0, 7.5), (3, 5), (10, 2.5)]\n",
    "const P = [1/3, 1/3, 1/3]"
   ]
  },
  {
   "cell_type": "markdown",
   "metadata": {},
   "source": [
    "## Importing packages\n",
    "\n",
    "For this example, in addition to `SDDP`, we need `Gurobi` as a solver, and `Statisitics` to\n",
    "compute the mean of our simulations."
   ]
  },
  {
   "cell_type": "code",
   "execution_count": 9,
   "metadata": {},
   "outputs": [
    {
     "name": "stdout",
     "output_type": "stream",
     "text": [
      "Academic license - for non-commercial use only\n"
     ]
    },
    {
     "name": "stderr",
     "output_type": "stream",
     "text": [
      "WARNING: redefining constant GRB_ENV\n"
     ]
    }
   ],
   "source": [
    "using Gurobi\n",
    "using SDDP\n",
    "using Statistics\n",
    "\n",
    "# Initialize the Gurobi environment once.\n",
    "const GRB_ENV = Gurobi.Env();"
   ]
  },
  {
   "cell_type": "markdown",
   "metadata": {},
   "source": [
    "## Solving a finite horizon policy\n",
    "\n",
    "Much of the macro code (i.e., lines starting with `@`) in the first part of the following\n",
    "should be familiar to users of JuMP.\n",
    "\n",
    "Inside the `do-end` block, `sp` is a standard JuMP model, and `t` is an\n",
    "index for the state variable that will be called with `t = 1, 2, 3`.\n",
    "\n",
    "The state variable `x`, constructed by passing the `SDDP.State` tag to `@variable` is\n",
    "actually a Julia struct with two fields: `x.in` and `x.out` corresponding to the incoming\n",
    "and outgoing state variables respectively. Both `x.in` and `x.out` are standard JuMP\n",
    "variables. The `initial_value` keyword provides the value of the state variable in the\n",
    "root node (i.e., `x_0`).\n",
    "\n",
    "Compared to a JuMP model, one key difference is that we use `@stageobjective`\n",
    "instead of `@objective`. The `SDDP.parameterize` function takes a list of supports\n",
    "for `w` and parameterizes the JuMP model `sp` by setting the right-hand sides of the\n",
    "appropriate constraints (note how the constraints initially have a right-hand side of\n",
    "`0`). By default, it is assumed that the realizations have uniform probability, but a\n",
    "probability mass vector can also be provided."
   ]
  },
  {
   "cell_type": "code",
   "execution_count": 36,
   "metadata": {},
   "outputs": [
    {
     "data": {
      "text/plain": [
       "A policy graph with 3 nodes.\n",
       " Node indices: 1, 2, 3\n"
      ]
     },
     "execution_count": 36,
     "metadata": {},
     "output_type": "execute_result"
    }
   ],
   "source": [
    "finite_horizon = SDDP.LinearPolicyGraph(\n",
    "    stages = T, \n",
    "    sense = :Min, \n",
    "    lower_bound = 0.0, \n",
    "    optimizer = with_optimizer(Gurobi.Optimizer, GRB_ENV),\n",
    ") do sp, t\n",
    "    set_silent(sp)\n",
    "    @variable(sp, x_lower <= x <= x_upper, SDDP.State, initial_value = x_0)\n",
    "    @variable(sp, g_t >= 0)\n",
    "    @variable(sp, g_h >= 0)\n",
    "    @variable(sp, s >= 0)\n",
    "    @constraint(sp, balance, x.out - x.in + g_h + s == 0)\n",
    "    @constraint(sp, demand, g_h + g_t == 0)\n",
    "    @stageobjective(sp, s + t * g_t)\n",
    "    SDDP.parameterize(sp, Ω, P) do ω\n",
    "        set_normalized_rhs(balance, ω[1])\n",
    "        set_normalized_rhs(demand, ω[2])\n",
    "    end\n",
    "end"
   ]
  },
  {
   "cell_type": "markdown",
   "metadata": {},
   "source": [
    "## Training the policy\n",
    "\n",
    "Once a model has been constructed, the next step is to train the policy. This can be\n",
    "achieved using `SDDP.train`. There are many options that can be passed, but\n",
    "`iteration_limit` terminates the training after the prescribed number of SDDP iterations."
   ]
  },
  {
   "cell_type": "code",
   "execution_count": 37,
   "metadata": {},
   "outputs": [
    {
     "name": "stdout",
     "output_type": "stream",
     "text": [
      "--------------------------------------------------------------------------------\n",
      "                      SDDP.jl (c) Oscar Dowson, 2017-20\n",
      "\n",
      "Numerical stability report\n",
      "  Non-zero Matrix range     [1e+00, 1e+00]\n",
      "  Non-zero Objective range  [1e+00, 3e+00]\n",
      "  Non-zero Bounds range     [5e+00, 2e+01]\n",
      "  Non-zero RHS range        [3e+00, 1e+01]\n",
      "No problems detected\n",
      "\n",
      "Solver: serial mode\n",
      "\n",
      " Iteration    Simulation       Bound         Time (s)    Proc. ID   # Solves\n",
      "        1    1.500000e+01   9.166667e+00   2.403021e-03          1         12\n",
      "        2    2.500000e+00   1.037037e+01   3.660917e-03          1         24\n",
      "        3    4.000000e+01   1.051440e+01   5.056858e-03          1         36\n",
      "        4    1.351587e+01   1.076543e+01   9.335995e-03          1         48\n",
      "        5    7.333333e+00   1.092593e+01   1.128888e-02          1         60\n",
      "        6    2.500000e+00   1.098148e+01   1.454282e-02          1         72\n",
      "        7    2.500000e+00   1.098148e+01   1.648402e-02          1         84\n",
      "        8    2.500000e+00   1.098148e+01   1.806498e-02          1         96\n",
      "        9    1.250000e+01   1.098148e+01   1.956391e-02          1        108\n",
      "       10    2.100000e+01   1.098148e+01   2.087402e-02          1        120\n",
      "       11    3.150000e+01   1.098148e+01   2.227283e-02          1        132\n",
      "       12    1.500000e+01   1.098148e+01   2.356195e-02          1        144\n",
      "       13    8.000000e+00   1.098148e+01   2.485895e-02          1        156\n",
      "       14    5.000000e+00   1.098148e+01   2.608299e-02          1        168\n",
      "       15    5.000000e+00   1.098148e+01   2.739382e-02          1        180\n",
      "       16    2.500000e+00   1.098148e+01   2.893591e-02          1        192\n",
      "       17    1.500000e+01   1.098148e+01   3.037500e-02          1        204\n",
      "       18    1.950000e+01   1.098148e+01   3.214383e-02          1        216\n",
      "       19    2.500000e+00   1.098148e+01   3.350496e-02          1        228\n",
      "Simulated policy value: [ 1.032470e+01,  1.457530e+01]\n",
      "       20    2.100000e+01   1.098148e+01   3.476787e-02          1        240\n",
      "\n",
      "Terminating training with status: statistical\n",
      "------------------------------------------------------------------------------\n"
     ]
    }
   ],
   "source": [
    "SDDP.train(\n",
    "    finite_horizon, \n",
    "    stopping_rules = [\n",
    "        SDDP.Statistical(\n",
    "            num_replications = 100, \n",
    "            iteration_period = 20, \n",
    "            z_score = 1.96,\n",
    "            verbose = true\n",
    "        )\n",
    "    ]\n",
    ")"
   ]
  },
  {
   "cell_type": "markdown",
   "metadata": {},
   "source": [
    "## Simulating the policy\n",
    "\n",
    "After training, we can simulate the policy using `SDDP.simulate`."
   ]
  },
  {
   "cell_type": "code",
   "execution_count": 38,
   "metadata": {},
   "outputs": [
    {
     "name": "stdout",
     "output_type": "stream",
     "text": [
      "On average, 1.58 units of thermal are used in the first stage.\n"
     ]
    }
   ],
   "source": [
    "sims = SDDP.simulate(finite_horizon, 1_000, [:x, :g_t])\n",
    "mu = round(mean([s[1][:g_t] for s in sims]), digits = 2)\n",
    "println(\"On average, $(mu) units of thermal are used in the first stage.\")"
   ]
  },
  {
   "cell_type": "markdown",
   "metadata": {},
   "source": [
    "`sims` is a vector of vectors of dictionaries. It has the following content:"
   ]
  },
  {
   "cell_type": "code",
   "execution_count": 39,
   "metadata": {},
   "outputs": [
    {
     "data": {
      "text/plain": [
       "Dict{Symbol,Any} with 8 entries:\n",
       "  :g_t             => 0.0\n",
       "  :bellman_term    => 8.5\n",
       "  :noise_term      => (3, 5)\n",
       "  :node_index      => 2\n",
       "  :stage_objective => 0.0\n",
       "  :objective_state => nothing\n",
       "  :belief          => Dict(2=>1.0)\n",
       "  :x               => State{Float64}(7.5, 5.5)"
      ]
     },
     "execution_count": 39,
     "metadata": {},
     "output_type": "execute_result"
    }
   ],
   "source": [
    "replication = 1\n",
    "stage = 2\n",
    "sims[replication][stage]"
   ]
  },
  {
   "cell_type": "markdown",
   "metadata": {},
   "source": [
    "We can visualize the solution using a spaghetti plot (you'll see why it has this name)."
   ]
  },
  {
   "cell_type": "code",
   "execution_count": 40,
   "metadata": {},
   "outputs": [],
   "source": [
    "p = SDDP.SpaghettiPlot(sims)\n",
    "SDDP.add_spaghetti(p, title = \"Reservoir Level\") do data \n",
    "    return data[:x].out\n",
    "end\n",
    "SDDP.add_spaghetti(p, title = \"Thermal Generation\") do data \n",
    "    return data[:g_t]\n",
    "end\n",
    "SDDP.add_spaghetti(p, title = \"Inflow\") do data \n",
    "    return data[:noise_term][1]\n",
    "end\n",
    "SDDP.add_spaghetti(p, title = \"Demand\") do data \n",
    "    return data[:noise_term][2]\n",
    "end\n",
    "SDDP.plot(p)"
   ]
  },
  {
   "cell_type": "markdown",
   "metadata": {},
   "source": [
    "## Extracting the water values\n",
    "\n",
    "Finally, we can use `SDDP.ValueFunction` and `SDDP.evaluate` to obtain and\n",
    "evaluate the value function at different points in the state-space. Note that since we\n",
    "are minimizing, the price has a negative sign: each additional unit of water leads to a\n",
    "decrease in the the expected long-run cost."
   ]
  },
  {
   "cell_type": "code",
   "execution_count": 41,
   "metadata": {},
   "outputs": [
    {
     "data": {
      "text/plain": [
       "(8.055555555555555, Dict(:x=>-0.555556))"
      ]
     },
     "execution_count": 41,
     "metadata": {},
     "output_type": "execute_result"
    }
   ],
   "source": [
    "V = SDDP.ValueFunction(finite_horizon[1])\n",
    "set_silent(V.model)\n",
    "cost, price = SDDP.evaluate(V, x = 0.5 * (x_lower + x_upper))"
   ]
  },
  {
   "cell_type": "code",
   "execution_count": 42,
   "metadata": {},
   "outputs": [],
   "source": [
    "SDDP.plot(V, x = x_lower:0.05:x_upper)"
   ]
  },
  {
   "cell_type": "markdown",
   "metadata": {},
   "source": [
    "## Solving an infinite horizon policy\n",
    "\n",
    "There are three stages in our problem, so we construct a linear policy graph with three\n",
    "stages using `SDDP.LinearGraph`:"
   ]
  },
  {
   "cell_type": "code",
   "execution_count": 43,
   "metadata": {},
   "outputs": [
    {
     "data": {
      "text/plain": [
       "Root\n",
       " 0\n",
       "Nodes\n",
       " 1\n",
       " 2\n",
       " 3\n",
       "Arcs\n",
       " 0 => 1 w.p. 1.0\n",
       " 1 => 2 w.p. 1.0\n",
       " 2 => 3 w.p. 1.0\n"
      ]
     },
     "execution_count": 43,
     "metadata": {},
     "output_type": "execute_result"
    }
   ],
   "source": [
    "graph = SDDP.LinearGraph(T)"
   ]
  },
  {
   "cell_type": "markdown",
   "metadata": {},
   "source": [
    "Then, because we want to solve an infinite-horizon problem, we add an additional edge\n",
    "between node `3` and node `1` with probability `0.95`:"
   ]
  },
  {
   "cell_type": "code",
   "execution_count": 44,
   "metadata": {},
   "outputs": [
    {
     "data": {
      "text/plain": [
       "Root\n",
       " 0\n",
       "Nodes\n",
       " 1\n",
       " 2\n",
       " 3\n",
       "Arcs\n",
       " 0 => 1 w.p. 1.0\n",
       " 1 => 2 w.p. 1.0\n",
       " 2 => 3 w.p. 1.0\n",
       " 3 => 1 w.p. 0.95\n"
      ]
     },
     "execution_count": 44,
     "metadata": {},
     "output_type": "execute_result"
    }
   ],
   "source": [
    "SDDP.add_edge(graph, T => 1, 0.95)\n",
    "graph"
   ]
  },
  {
   "cell_type": "code",
   "execution_count": 45,
   "metadata": {},
   "outputs": [
    {
     "name": "stdout",
     "output_type": "stream",
     "text": [
      "--------------------------------------------------------------------------------\n",
      "                      SDDP.jl (c) Oscar Dowson, 2017-20\n",
      "\n",
      "Numerical stability report\n",
      "  Non-zero Matrix range     [1e+00, 1e+00]\n",
      "  Non-zero Objective range  [1e+00, 3e+00]\n",
      "  Non-zero Bounds range     [5e+00, 2e+01]\n",
      "  Non-zero RHS range        [0e+00, 0e+00]\n",
      "No problems detected\n",
      "\n",
      "Solver: serial mode\n",
      "\n",
      " Iteration    Simulation       Bound         Time (s)    Proc. ID   # Solves\n",
      "        1    9.150000e+01   3.889139e+01   1.446295e-02          1        111\n",
      "        2    4.306198e+02   1.068403e+02   5.641985e-02          1        510\n",
      "        3    1.750000e+01   1.108152e+02   5.791306e-02          1        525\n",
      "        4    1.374177e+02   1.214596e+02   6.619287e-02          1        612\n",
      "        5    2.735418e+02   1.513640e+02   8.719206e-02          1        879\n",
      "        6    1.402386e+02   1.592942e+02   9.405208e-02          1        966\n",
      "        7    2.950000e+02   1.795309e+02   1.144390e-01          1       1233\n",
      "        8    3.197868e+02   1.893549e+02   1.410050e-01          1       1560\n",
      "        9    6.840000e+02   2.083944e+02   1.918750e-01          1       2175\n",
      "       10    1.095635e+02   2.102836e+02   2.027640e-01          1       2274\n",
      "       11    2.166952e+01   2.109621e+02   2.051620e-01          1       2301\n",
      "       12    5.787029e+01   2.126543e+02   2.138000e-01          1       2388\n",
      "       13    6.500141e+02   2.218726e+02   3.019140e-01          1       3171\n",
      "       14    9.520818e+02   2.277065e+02   3.985329e-01          1       4110\n",
      "       15    8.952590e+02   2.293801e+02   5.029910e-01          1       5085\n",
      "       16    4.778216e+01   2.295210e+02   5.107360e-01          1       5160\n",
      "       17    1.448009e+02   2.303807e+02   5.322330e-01          1       5319\n",
      "       18    3.016954e+02   2.307427e+02   5.756569e-01          1       5682\n",
      "       19    1.317937e+00   2.310902e+02   5.786071e-01          1       5697\n",
      "       20    5.287516e+02   2.321401e+02   6.736000e-01          1       6324\n",
      "       21    2.350457e+02   2.325707e+02   7.060380e-01          1       6567\n",
      "       22    6.220811e+01   2.329278e+02   7.210639e-01          1       6666\n",
      "       23    6.749712e+02   2.330851e+02   8.143349e-01          1       7413\n",
      "       24    1.557313e+02   2.336029e+02   8.389840e-01          1       7620\n",
      "       25    2.295289e+02   2.336935e+02   8.802409e-01          1       7959\n",
      "       26    6.819259e+01   2.339167e+02   8.933330e-01          1       8082\n",
      "       27    4.348573e+02   2.340167e+02   9.522340e-01          1       8697\n",
      "       28    1.334461e+01   2.340263e+02   9.566100e-01          1       8736\n",
      "       29    2.437834e+02   2.342304e+02   9.829800e-01          1       8991\n",
      "       30    1.192106e+02   2.343900e+02   9.959810e-01          1       9114\n",
      "       31    1.191750e+02   2.344071e+02   1.005446e+00          1       9201\n",
      "       32    3.994262e+02   2.348743e+02   1.077676e+00          1       9708\n",
      "       33    1.671245e+02   2.349350e+02   1.106138e+00          1       9939\n",
      "       34    5.180538e+01   2.350190e+02   1.116058e+00          1      10014\n",
      "       35    1.481135e+02   2.350620e+02   1.132284e+00          1      10149\n",
      "       36    4.903017e+02   2.352383e+02   1.181310e+00          1      10572\n",
      "       37    3.400000e+01   2.352423e+02   1.190006e+00          1      10635\n",
      "       38    1.101719e+02   2.353181e+02   1.201300e+00          1      10722\n",
      "       39    2.068596e+02   2.353644e+02   1.224274e+00          1      10905\n",
      "       40    3.850958e+01   2.354090e+02   1.230823e+00          1      10956\n",
      "       41    1.157705e+03   2.355700e+02   1.347059e+00          1      11907\n",
      "       42    3.830259e+02   2.357089e+02   1.412434e+00          1      12294\n",
      "       43    3.186484e+01   2.357360e+02   1.417205e+00          1      12321\n",
      "       44    1.524806e+02   2.357734e+02   1.437076e+00          1      12444\n",
      "       45    1.837646e+02   2.357880e+02   1.458391e+00          1      12579\n",
      "       46    1.477880e+01   2.358063e+02   1.462959e+00          1      12606\n",
      "       47    3.069839e+02   2.358322e+02   1.521969e+00          1      12873\n",
      "       48    1.036681e+01   2.358731e+02   1.527488e+00          1      12900\n",
      "       49    5.026331e+02   2.359253e+02   1.603606e+00          1      13335\n",
      "       50    1.724113e+02   2.359765e+02   1.630259e+00          1      13494\n",
      "       51    2.071624e+01   2.359887e+02   1.639253e+00          1      13545\n",
      "       52    1.526240e+03   2.361184e+02   1.923163e+00          1      15060\n",
      "       53    3.053958e+02   2.361294e+02   1.964995e+00          1      15291\n",
      "       54    1.821337e+02   2.361558e+02   1.994002e+00          1      15450\n",
      "       55    8.131707e+00   2.361558e+02   1.997168e+00          1      15465\n",
      "       56    7.501151e+00   2.361585e+02   2.002538e+00          1      15492\n",
      "       57    7.732087e+02   2.361834e+02   2.155977e+00          1      16275\n",
      "       58    8.897805e+00   2.361943e+02   2.161617e+00          1      16302\n",
      "       59    4.150885e+02   2.362130e+02   2.242909e+00          1      16737\n",
      "       60    2.025128e+02   2.362381e+02   2.288191e+00          1      16980\n",
      "       61    2.361058e+02   2.362581e+02   2.327288e+00          1      17187\n",
      "       62    9.015477e+00   2.362611e+02   2.335015e+00          1      17226\n",
      "       63    8.099964e+01   2.362644e+02   2.349667e+00          1      17301\n",
      "       64    2.428555e+02   2.362700e+02   2.379703e+00          1      17460\n",
      "       65    6.101496e+01   2.362718e+02   2.391961e+00          1      17523\n",
      "       66    3.727479e+02   2.362893e+02   2.483651e+00          1      17970\n",
      "       67    6.079583e+02   2.363172e+02   2.630059e+00          1      18645\n",
      "       68    7.601674e+01   2.363232e+02   2.654808e+00          1      18756\n",
      "       69    1.253763e+03   2.363465e+02   2.955899e+00          1      20091\n",
      "       70    2.500000e+00   2.363472e+02   2.959743e+00          1      20106\n",
      "       71    5.021910e+00   2.363496e+02   2.963656e+00          1      20121\n",
      "       72    1.249959e+01   2.363496e+02   2.967398e+00          1      20136\n",
      "       73    1.035155e+02   2.363527e+02   2.987275e+00          1      20211\n",
      "       74    5.348507e+01   2.363529e+02   3.004128e+00          1      20274\n",
      "       75    7.567343e+02   2.363604e+02   3.201523e+00          1      21045\n",
      "       76    1.000000e+01   2.363605e+02   3.207916e+00          1      21072\n",
      "       77    3.755585e+02   2.363661e+02   3.302743e+00          1      21471\n",
      "       78    1.915048e+02   2.363723e+02   3.366854e+00          1      21738\n",
      "       79    2.396149e+03   2.363990e+02   4.026567e+00          1      24261\n",
      "       80    3.556722e+02   2.364051e+02   4.140615e+00          1      24648\n",
      "       81    6.300744e+01   2.364056e+02   4.156593e+00          1      24711\n",
      "       82    1.545017e+02   2.364080e+02   4.197401e+00          1      24870\n",
      "       83    3.771420e+02   2.364093e+02   4.303936e+00          1      25281\n",
      "       84    7.449781e+01   2.364109e+02   4.317721e+00          1      25332\n",
      "       85    1.544928e+02   2.364123e+02   4.369859e+00          1      25527\n",
      "       86    8.002480e+00   2.364123e+02   4.373991e+00          1      25542\n",
      "       87    3.401401e+01   2.364132e+02   4.390719e+00          1      25605\n",
      "       88    7.984939e+02   2.364159e+02   4.632301e+00          1      26472\n",
      "       89    7.249649e+01   2.364168e+02   4.642956e+00          1      26511\n",
      "       90    2.300000e+01   2.364168e+02   4.650453e+00          1      26538\n",
      "       91    1.689999e+02   2.364173e+02   4.704609e+00          1      26721\n",
      "       92    2.414982e+02   2.364186e+02   4.784751e+00          1      27000\n",
      "       93    5.715359e+02   2.364220e+02   4.953496e+00          1      27591\n",
      "       94    1.385103e+02   2.364229e+02   5.074230e+00          1      27774\n",
      "       95    3.840113e+02   2.364240e+02   5.160273e+00          1      28077\n",
      "       96    1.725015e+02   2.364243e+02   5.216613e+00          1      28272\n",
      "       97    2.850103e+01   2.364243e+02   5.224393e+00          1      28299\n",
      "       98    7.205060e+01   2.364249e+02   5.256948e+00          1      28410\n",
      "       99    1.465006e+02   2.364251e+02   5.304080e+00          1      28569\n",
      "      100    1.069987e+02   2.364256e+02   5.332040e+00          1      28668\n",
      "\n",
      "Terminating training with status: iteration_limit\n",
      "------------------------------------------------------------------------------\n"
     ]
    },
    {
     "data": {
      "text/plain": [
       "(233.5343971228139, Dict(:x=>-0.658945))"
      ]
     },
     "execution_count": 45,
     "metadata": {},
     "output_type": "execute_result"
    }
   ],
   "source": [
    "infinite_horizon = SDDP.PolicyGraph(\n",
    "    graph, \n",
    "    sense = :Min, \n",
    "    lower_bound = 0.0, \n",
    "    optimizer = with_optimizer(Gurobi.Optimizer, GRB_ENV),\n",
    ") do sp, t\n",
    "    set_silent(sp)\n",
    "    @variable(sp, x_lower <= x <= x_upper, SDDP.State, initial_value = x_0)\n",
    "    @variables(sp, begin\n",
    "        g_t >= 0\n",
    "        g_h >= 0\n",
    "        s   >= 0\n",
    "        inflow  # This time we add inflow as a slack variable\n",
    "        demand  # Same for demand.\n",
    "    end)\n",
    "    @constraints(sp, begin\n",
    "        x.out == x.in - g_h - s + inflow\n",
    "        g_h + g_t == demand\n",
    "    end)\n",
    "    @stageobjective(sp, s + t * g_t)\n",
    "    SDDP.parameterize(sp, Ω, P) do ω\n",
    "        fix(inflow, ω[1])\n",
    "        fix(demand, ω[2])\n",
    "    end\n",
    "end\n",
    "SDDP.train(infinite_horizon, iteration_limit = 100)\n",
    "V = SDDP.ValueFunction(infinite_horizon[1])\n",
    "set_silent(V.model)\n",
    "cost, price = SDDP.evaluate(V, x = 10)"
   ]
  },
  {
   "cell_type": "code",
   "execution_count": 46,
   "metadata": {},
   "outputs": [],
   "source": [
    "SDDP.plot(V, x = x_lower:0.05:x_upper)"
   ]
  }
 ],
 "metadata": {
  "@webio": {
   "lastCommId": null,
   "lastKernelId": null
  },
  "kernelspec": {
   "display_name": "Julia 1.1.0",
   "language": "julia",
   "name": "julia-1.1"
  },
  "language_info": {
   "file_extension": ".jl",
   "mimetype": "application/julia",
   "name": "julia",
   "version": "1.1.0"
  }
 },
 "nbformat": 4,
 "nbformat_minor": 2
}
