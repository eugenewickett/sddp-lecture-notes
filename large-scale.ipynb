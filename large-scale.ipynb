{
 "cells": [
  {
   "cell_type": "markdown",
   "metadata": {},
   "source": [
    "# JuMP\n",
    "\n",
    "JuMP is an _algebraic modeling language_ in Julia. It stands for Julia for Mathematical Programming.\n",
    "\n",
    "It is similar in aim to other algebraic modeling languages like AMPL, CVX, CVXpy, GAMS, Pyomo, ...\n",
    "\n",
    "## Useful links\n",
    "\n",
    "- Website: https://jump.dev\n",
    "- Installation: https://www.juliaopt.org/JuMP.jl/stable/installation/\n",
    "- Quickstart: https://www.juliaopt.org/JuMP.jl/stable/quickstart/\n",
    "- Tutorials: https://github.com/JuliaOpt/JuMPTutorials.jl\n",
    "- MathOptInterface. What? Why? How? http://www.optimization-online.org/DB_HTML/2020/02/7609.html"
   ]
  },
  {
   "cell_type": "code",
   "execution_count": 24,
   "metadata": {
    "scrolled": true
   },
   "outputs": [
    {
     "name": "stdout",
     "output_type": "stream",
     "text": [
      "Academic license - for non-commercial use only\n",
      "Max 5 x + 3 y\n",
      "Subject to\n",
      " x + 5 y ≤ 3.0\n",
      " x ≥ 0.0\n",
      " y ≥ 0.0\n",
      " x ≤ 2.0\n",
      " y ≤ 30.0\n",
      "\n"
     ]
    }
   ],
   "source": [
    "using JuMP\n",
    "using Gurobi\n",
    "\n",
    "model = Model(with_optimizer(Gurobi.Optimizer))\n",
    "set_silent(model)\n",
    "\n",
    "@variable(model, 0 <= x <= 2)\n",
    "@variable(model, 0 <= y <= 30)\n",
    "\n",
    "@objective(model, Max, 5x + 3y)\n",
    "\n",
    "@constraint(model, my_con, x + 5y <= 3)\n",
    "\n",
    "println(model)"
   ]
  },
  {
   "cell_type": "code",
   "execution_count": 25,
   "metadata": {},
   "outputs": [
    {
     "name": "stdout",
     "output_type": "stream",
     "text": [
      "Academic license - for non-commercial use only\n",
      "\n",
      "JuMP.termination_status(model) = OPTIMAL::TerminationStatusCode = 1\n",
      "primal_status(model) = FEASIBLE_POINT::ResultStatusCode = 1\n",
      "dual_status(model) = FEASIBLE_POINT::ResultStatusCode = 1\n",
      "objective_value(model) = 10.6\n",
      "value(x) = 2.0\n",
      "value(y) = 0.2\n",
      "dual(my_con) = -0.6\n",
      "shadow_price(my_con) = 0.6\n"
     ]
    },
    {
     "data": {
      "text/plain": [
       "0.6"
      ]
     },
     "execution_count": 25,
     "metadata": {},
     "output_type": "execute_result"
    }
   ],
   "source": [
    "optimize!(model)\n",
    "\n",
    "println()\n",
    "\n",
    "@show JuMP.termination_status(model)\n",
    "@show primal_status(model)\n",
    "@show dual_status(model)\n",
    "@show objective_value(model)\n",
    "@show value(x)\n",
    "@show value(y)\n",
    "@show dual(my_con)\n",
    "@show shadow_price(my_con)"
   ]
  },
  {
   "cell_type": "markdown",
   "metadata": {},
   "source": [
    "JuMP's not just for linear programming. You can also create crazy models!"
   ]
  },
  {
   "cell_type": "code",
   "execution_count": 26,
   "metadata": {},
   "outputs": [
    {
     "data": {
      "text/latex": [
       "$$ \\begin{alignat*}{1}\\min\\quad & 0.25 Y_{1,1} + 0.5 Y_{1,2} + 0.25 Y_{2,2} + x_{1} + x_{2} + x_{3} + x_{4}\\\\\n",
       "\\text{Subject to} \\quad & \\begin{bmatrix}\n",
       "Y_{1,1} & Y_{1,2}\\\\\n",
       "\\cdot & Y_{2,2}\\\\\n",
       "\\end{bmatrix} \\in PSDCone()\\\\\n",
       " & x_{1} \\geq 1.0\\\\\n",
       " & x_{2} \\geq 2.0\\\\\n",
       " & x_{3} \\geq 3.0\\\\\n",
       " & x_{4} \\geq 4.0\\\\\n",
       " & (sin(x_{1}) + sin(x_{2}) + sin(x_{3}) + sin(x_{4})) - 3.141592653589793 = 0\\\\\n",
       "\\end{alignat*}\n",
       " $$"
      ],
      "text/plain": [
       "A JuMP Model\n",
       "Minimization problem with:\n",
       "Variables: 7\n",
       "Objective function type: GenericAffExpr{Float64,VariableRef}\n",
       "`Array{VariableRef,1}`-in-`MathOptInterface.PositiveSemidefiniteConeTriangle`: 1 constraint\n",
       "`VariableRef`-in-`MathOptInterface.GreaterThan{Float64}`: 4 constraints\n",
       "Nonlinear: 1 constraint\n",
       "Model mode: AUTOMATIC\n",
       "CachingOptimizer state: NO_OPTIMIZER\n",
       "Solver name: No optimizer attached.\n",
       "Names registered in the model: Y, x"
      ]
     },
     "execution_count": 26,
     "metadata": {},
     "output_type": "execute_result"
    }
   ],
   "source": [
    "model = Model()\n",
    "@variable(model, x[i = 1:4] >= i)\n",
    "@variable(model, Y[1:2, 1:2], PSD)\n",
    "@NLconstraint(model, sum(sin(x[i]) for i = 1:4) == π)\n",
    "@objective(model, Min, [0.5, 0.5]' * Y * [0.5, 0.5] + sum(x))\n",
    "model"
   ]
  },
  {
   "cell_type": "markdown",
   "metadata": {},
   "source": [
    "## Why should I use JuMP over...\n",
    "\n",
    "- gurobipy? \n",
    "\n",
    "Not bound to one particular solver (but can still use Gurobi). Also supports nonlinear programming and conic problems (semidefinite programming, etc.)\n",
    "\n",
    "- AMPL/GAMS/AIMMS/etc.?\n",
    "\n",
    "Embedded in a high-level language. \n",
    "\n",
    "- PuLP?\n",
    "\n",
    "Supports nonlinear, conic, callbacks, etc.\n",
    "\n",
    "- Pyomo?\n",
    "\n",
    "Interfaces with solvers via in-memory APIs. Can be orders of magnitude faster if you are solving problems sequentially.\n",
    "\n",
    "- C/C++ APIs for CPLEX/Gurobi/...\n",
    "\n",
    "Faster development time."
   ]
  },
  {
   "cell_type": "markdown",
   "metadata": {},
   "source": [
    "# SDDP.jl\n",
    "\n",
    "## Hydro-thermal scheduling\n",
    "\n",
    "## Problem Description\n",
    "\n",
    "In a hydro-thermal problem, the agent controls a hydro-electric generator and reservoir.\n",
    "\n",
    "Each time period, they need to choose a generation quantity from thermal `g_t`, and hydro\n",
    "`g_h`, in order to meed demand `w_d`, which is a stagewise-independent random variable.\n",
    "\n",
    "The state variable, `x`, is the quantity of water in the reservoir at the start of each\n",
    "time period, and it has a minimum level of 5 units and a maximum level of 15 units. \n",
    "\n",
    "We\n",
    "assume that there are 10 units of water in the reservoir at the start of time, so that\n",
    "`x_0 = 10`. \n",
    "\n",
    "The state-variable is connected through time by the water balance constraint:\n",
    "`x.out = x.in - g_h - s + w_i,` where `x.out` is the quantity of water at the end of the\n",
    "time period, `x.in` is the quantity of water at the start of the time period, `s` is the\n",
    "quantity of water spilled from the reservoir, and `w_i` is a stagewise-independent random\n",
    "variable that represents the inflow into the reservoir during the time period.\n",
    "\n",
    "We assume that there are three stages, `t=1, 2, 3`, representing summer-fall, winter, and\n",
    "spring.\n",
    "\n",
    "In each stage, the agent incurs the cost of spillage, plus the cost of thermal generation.\n",
    "\n",
    "We assume that the cost of thermal generation is dependent on the stage `t = 1, 2, 3`, and\n",
    "that in each stage, `w` is drawn from the set `(w_i, w_d) = {(0, 7.5), (3, 5), (10, 2.5)}`\n",
    "with equal probability."
   ]
  },
  {
   "cell_type": "code",
   "execution_count": 27,
   "metadata": {},
   "outputs": [
    {
     "name": "stderr",
     "output_type": "stream",
     "text": [
      "WARNING: redefining constant Ω\n",
      "WARNING: redefining constant P\n"
     ]
    },
    {
     "data": {
      "text/plain": [
       "3-element Array{Float64,1}:\n",
       " 0.3333333333333333\n",
       " 0.3333333333333333\n",
       " 0.3333333333333333"
      ]
     },
     "execution_count": 27,
     "metadata": {},
     "output_type": "execute_result"
    }
   ],
   "source": [
    "const x_lower = 5\n",
    "const x_upper = 15\n",
    "const x_0 = 10\n",
    "const T = 3\n",
    "const Ω = [(0, 7.5), (3, 5), (10, 2.5)]\n",
    "const P = [1/3, 1/3, 1/3]"
   ]
  },
  {
   "cell_type": "markdown",
   "metadata": {},
   "source": [
    "## Importing packages\n",
    "\n",
    "For this example, in addition to `SDDP`, we need `Gurobi` as a solver, and `Statisitics` to\n",
    "compute the mean of our simulations."
   ]
  },
  {
   "cell_type": "code",
   "execution_count": 28,
   "metadata": {},
   "outputs": [
    {
     "name": "stdout",
     "output_type": "stream",
     "text": [
      "Academic license - for non-commercial use only\n"
     ]
    },
    {
     "name": "stderr",
     "output_type": "stream",
     "text": [
      "WARNING: redefining constant GRB_ENV\n"
     ]
    }
   ],
   "source": [
    "using Gurobi\n",
    "using SDDP\n",
    "using Statistics\n",
    "\n",
    "# Initialize the Gurobi environment once.\n",
    "const GRB_ENV = Gurobi.Env();"
   ]
  },
  {
   "cell_type": "markdown",
   "metadata": {},
   "source": [
    "## Solving a finite horizon policy\n",
    "\n",
    "Much of the macro code (i.e., lines starting with `@`) in the first part of the following\n",
    "should be familiar to users of JuMP.\n",
    "\n",
    "Inside the `do-end` block, `sp` is a standard JuMP model, and `t` is an\n",
    "index for the state variable that will be called with `t = 1, 2, 3`.\n",
    "\n",
    "The state variable `x`, constructed by passing the `SDDP.State` tag to `@variable` is\n",
    "actually a Julia struct with two fields: `x.in` and `x.out` corresponding to the incoming\n",
    "and outgoing state variables respectively. Both `x.in` and `x.out` are standard JuMP\n",
    "variables. The `initial_value` keyword provides the value of the state variable in the\n",
    "root node (i.e., `x_0`).\n",
    "\n",
    "Compared to a JuMP model, one key difference is that we use `@stageobjective`\n",
    "instead of `@objective`. The `SDDP.parameterize` function takes a list of supports\n",
    "for `w` and parameterizes the JuMP model `sp` by setting the right-hand sides of the\n",
    "appropriate constraints (note how the constraints initially have a right-hand side of\n",
    "`0`). By default, it is assumed that the realizations have uniform probability, but a\n",
    "probability mass vector can also be provided."
   ]
  },
  {
   "cell_type": "code",
   "execution_count": 29,
   "metadata": {},
   "outputs": [
    {
     "data": {
      "text/plain": [
       "A policy graph with 3 nodes.\n",
       " Node indices: 1, 2, 3\n"
      ]
     },
     "execution_count": 29,
     "metadata": {},
     "output_type": "execute_result"
    }
   ],
   "source": [
    "finite_horizon = SDDP.LinearPolicyGraph(\n",
    "    stages = T, \n",
    "    sense = :Min, \n",
    "    lower_bound = 0.0, \n",
    "    optimizer = with_optimizer(Gurobi.Optimizer, GRB_ENV),\n",
    ") do sp, t\n",
    "    set_silent(sp)\n",
    "    @variable(sp, x_lower <= x <= x_upper, SDDP.State, initial_value = x_0)\n",
    "    @variable(sp, g_t >= 0)\n",
    "    @variable(sp, g_h >= 0)\n",
    "    @variable(sp, s >= 0)\n",
    "    @constraint(sp, balance, x.out - x.in + g_h + s == 0)\n",
    "    @constraint(sp, demand, g_h + g_t == 0)\n",
    "    @stageobjective(sp, s + t * g_t)\n",
    "    SDDP.parameterize(sp, Ω, P) do ω\n",
    "        set_normalized_rhs(balance, ω[1])\n",
    "        set_normalized_rhs(demand, ω[2])\n",
    "    end\n",
    "end"
   ]
  },
  {
   "cell_type": "markdown",
   "metadata": {},
   "source": [
    "## Training the policy\n",
    "\n",
    "Once a model has been constructed, the next step is to train the policy. This can be\n",
    "achieved using `SDDP.train`. There are many options that can be passed, but\n",
    "`iteration_limit` terminates the training after the prescribed number of SDDP iterations."
   ]
  },
  {
   "cell_type": "code",
   "execution_count": 30,
   "metadata": {},
   "outputs": [
    {
     "name": "stdout",
     "output_type": "stream",
     "text": [
      "--------------------------------------------------------------------------------\n",
      "                      SDDP.jl (c) Oscar Dowson, 2017-20\n",
      "\n",
      "Numerical stability report\n",
      "  Non-zero Matrix range     [1e+00, 1e+00]\n",
      "  Non-zero Objective range  [1e+00, 3e+00]\n",
      "  Non-zero Bounds range     [5e+00, 2e+01]\n",
      "  Non-zero RHS range        [3e+00, 1e+01]\n",
      "No problems detected\n",
      "\n",
      "Solver: serial mode\n",
      "\n",
      " Iteration    Simulation       Bound         Time (s)    Proc. ID   # Solves\n",
      "        1    3.150000e+01   9.166667e+00   1.940966e-03          1         12\n",
      "        2    5.000000e-01   1.000000e+01   3.106117e-03          1         24\n",
      "        3    1.557143e+01   1.098148e+01   4.104137e-03          1         36\n",
      "        4    2.500000e+00   1.098148e+01   5.378962e-03          1         48\n",
      "        5    3.000000e+00   1.098148e+01   6.550074e-03          1         60\n",
      "        6    3.000000e+00   1.098148e+01   8.024931e-03          1         72\n",
      "        7    8.000000e+00   1.098148e+01   1.241708e-02          1         84\n",
      "        8    2.500000e+00   1.098148e+01   1.450205e-02          1         96\n",
      "        9    7.500000e+00   1.098148e+01   1.629114e-02          1        108\n",
      "       10    1.950000e+01   1.098148e+01   1.788998e-02          1        120\n",
      "       11    3.500000e+00   1.098148e+01   1.906204e-02          1        132\n",
      "       12    2.600000e+01   1.098148e+01   2.019095e-02          1        144\n",
      "       13    5.000000e-01   1.098148e+01   2.131605e-02          1        156\n",
      "       14    5.000000e-01   1.098148e+01   2.236199e-02          1        168\n",
      "       15    5.000000e-01   1.098148e+01   2.339005e-02          1        180\n",
      "       16    3.750000e+01   1.098148e+01   2.456999e-02          1        192\n",
      "       17    1.000000e+01   1.098148e+01   2.590108e-02          1        204\n",
      "       18    1.750000e+01   1.098148e+01   2.704406e-02          1        216\n",
      "       19    5.000000e+00   1.098148e+01   2.810693e-02          1        228\n",
      "Simulated policy value: [ 9.524052e+00,  1.314595e+01]\n",
      "       20    8.000000e+00   1.098148e+01   2.917600e-02          1        240\n",
      "\n",
      "Terminating training with status: statistical\n",
      "------------------------------------------------------------------------------\n"
     ]
    }
   ],
   "source": [
    "SDDP.train(\n",
    "    finite_horizon, \n",
    "    stopping_rules = [\n",
    "        SDDP.Statistical(\n",
    "            num_replications = 100, \n",
    "            iteration_period = 20, \n",
    "            z_score = 1.96,\n",
    "            verbose = true\n",
    "        )\n",
    "    ]\n",
    ")"
   ]
  },
  {
   "cell_type": "markdown",
   "metadata": {},
   "source": [
    "## Simulating the policy\n",
    "\n",
    "After training, we can simulate the policy using `SDDP.simulate`."
   ]
  },
  {
   "cell_type": "code",
   "execution_count": 31,
   "metadata": {},
   "outputs": [
    {
     "name": "stdout",
     "output_type": "stream",
     "text": [
      "On average, 1.64 units of thermal are used in the first stage.\n"
     ]
    }
   ],
   "source": [
    "sims = SDDP.simulate(finite_horizon, 1_000, [:x, :g_t])\n",
    "mu = round(mean([s[1][:g_t] for s in sims]), digits = 2)\n",
    "println(\"On average, $(mu) units of thermal are used in the first stage.\")"
   ]
  },
  {
   "cell_type": "markdown",
   "metadata": {},
   "source": [
    "`sims` is a vector of vectors of dictionaries. It has the following content:"
   ]
  },
  {
   "cell_type": "code",
   "execution_count": 32,
   "metadata": {},
   "outputs": [
    {
     "data": {
      "text/plain": [
       "Dict{Symbol,Any} with 8 entries:\n",
       "  :g_t             => 0.0\n",
       "  :bellman_term    => 5.0\n",
       "  :noise_term      => (0, 7.5)\n",
       "  :node_index      => 2\n",
       "  :stage_objective => 0.0\n",
       "  :objective_state => nothing\n",
       "  :belief          => Dict(2=>1.0)\n",
       "  :x               => State{Float64}(15.0, 7.5)"
      ]
     },
     "execution_count": 32,
     "metadata": {},
     "output_type": "execute_result"
    }
   ],
   "source": [
    "replication = 1\n",
    "stage = 2\n",
    "sims[replication][stage]"
   ]
  },
  {
   "cell_type": "markdown",
   "metadata": {},
   "source": [
    "We can visualize the solution using a spaghetti plot (you'll see why it has this name)."
   ]
  },
  {
   "cell_type": "code",
   "execution_count": 33,
   "metadata": {},
   "outputs": [],
   "source": [
    "p = SDDP.SpaghettiPlot(sims)\n",
    "SDDP.add_spaghetti(p, title = \"Reservoir Level\") do data \n",
    "    return data[:x].out\n",
    "end\n",
    "SDDP.add_spaghetti(p, title = \"Thermal Generation\") do data \n",
    "    return data[:g_t]\n",
    "end\n",
    "SDDP.add_spaghetti(p, title = \"Inflow\") do data \n",
    "    return data[:noise_term][1]\n",
    "end\n",
    "SDDP.add_spaghetti(p, title = \"Demand\") do data \n",
    "    return data[:noise_term][2]\n",
    "end\n",
    "SDDP.plot(p)"
   ]
  },
  {
   "cell_type": "markdown",
   "metadata": {},
   "source": [
    "## Extracting the water values\n",
    "\n",
    "Finally, we can use `SDDP.ValueFunction` and `SDDP.evaluate` to obtain and\n",
    "evaluate the value function at different points in the state-space. Note that since we\n",
    "are minimizing, the price has a negative sign: each additional unit of water leads to a\n",
    "decrease in the the expected long-run cost."
   ]
  },
  {
   "cell_type": "code",
   "execution_count": 34,
   "metadata": {},
   "outputs": [
    {
     "data": {
      "text/plain": [
       "(7.666666666666664, Dict(:x=>-1.0))"
      ]
     },
     "execution_count": 34,
     "metadata": {},
     "output_type": "execute_result"
    }
   ],
   "source": [
    "V = SDDP.ValueFunction(finite_horizon[1])\n",
    "set_silent(V.model)\n",
    "cost, price = SDDP.evaluate(V, x = 0.5 * (x_lower + x_upper))"
   ]
  },
  {
   "cell_type": "code",
   "execution_count": 35,
   "metadata": {},
   "outputs": [],
   "source": [
    "SDDP.plot(V, x = x_lower:0.05:x_upper)"
   ]
  },
  {
   "cell_type": "markdown",
   "metadata": {},
   "source": [
    "## Solving an infinite horizon policy\n",
    "\n",
    "There are three stages in our problem, so we construct a linear policy graph with three\n",
    "stages using `SDDP.LinearGraph`:"
   ]
  },
  {
   "cell_type": "code",
   "execution_count": 36,
   "metadata": {},
   "outputs": [
    {
     "data": {
      "text/plain": [
       "Root\n",
       " 0\n",
       "Nodes\n",
       " 1\n",
       " 2\n",
       " 3\n",
       "Arcs\n",
       " 0 => 1 w.p. 1.0\n",
       " 1 => 2 w.p. 1.0\n",
       " 2 => 3 w.p. 1.0\n"
      ]
     },
     "execution_count": 36,
     "metadata": {},
     "output_type": "execute_result"
    }
   ],
   "source": [
    "graph = SDDP.LinearGraph(T)"
   ]
  },
  {
   "cell_type": "markdown",
   "metadata": {},
   "source": [
    "Then, because we want to solve an infinite-horizon problem, we add an additional edge\n",
    "between node `3` and node `1` with probability `0.95`:"
   ]
  },
  {
   "cell_type": "code",
   "execution_count": 37,
   "metadata": {},
   "outputs": [
    {
     "data": {
      "text/plain": [
       "Root\n",
       " 0\n",
       "Nodes\n",
       " 1\n",
       " 2\n",
       " 3\n",
       "Arcs\n",
       " 0 => 1 w.p. 1.0\n",
       " 1 => 2 w.p. 1.0\n",
       " 2 => 3 w.p. 1.0\n",
       " 3 => 1 w.p. 0.95\n"
      ]
     },
     "execution_count": 37,
     "metadata": {},
     "output_type": "execute_result"
    }
   ],
   "source": [
    "SDDP.add_edge(graph, T => 1, 0.95)\n",
    "graph"
   ]
  },
  {
   "cell_type": "code",
   "execution_count": 38,
   "metadata": {},
   "outputs": [
    {
     "name": "stdout",
     "output_type": "stream",
     "text": [
      "--------------------------------------------------------------------------------\n",
      "                      SDDP.jl (c) Oscar Dowson, 2017-20\n",
      "\n",
      "Numerical stability report\n",
      "  Non-zero Matrix range     [1e+00, 1e+00]\n",
      "  Non-zero Objective range  [1e+00, 3e+00]\n",
      "  Non-zero Bounds range     [5e+00, 2e+01]\n",
      "  Non-zero RHS range        [0e+00, 0e+00]\n",
      "No problems detected\n",
      "\n",
      "Solver: serial mode\n",
      "\n",
      " Iteration    Simulation       Bound         Time (s)    Proc. ID   # Solves\n",
      "        1    2.700000e+02   5.902098e+01   1.720405e-02          1        195\n",
      "        2    3.594979e+01   6.790911e+01   2.030802e-02          1        234\n",
      "        3    2.723743e+02   1.141071e+02   6.974006e-02          1        489\n",
      "        4    4.150000e+01   1.182283e+02   7.532907e-02          1        540\n",
      "        5    1.290000e+02   1.401989e+02   8.871102e-02          1        699\n",
      "        6    1.550000e+02   1.576899e+02   1.049221e-01          1        870\n",
      "        7    1.416061e+02   1.654162e+02   1.154101e-01          1        981\n",
      "        8    4.690538e+02   1.921952e+02   1.555440e-01          1       1464\n",
      "        9    1.594924e+02   1.974560e+02   1.696150e-01          1       1623\n",
      "       10    3.869024e+02   2.094769e+02   2.129281e-01          1       2106\n",
      "       11    3.704719e+02   2.168347e+02   2.543151e-01          1       2541\n",
      "       12    3.301346e+02   2.189550e+02   2.874310e-01          1       2868\n",
      "       13    2.808725e+02   2.218417e+02   3.085082e-01          1       3135\n",
      "       14    1.650296e+01   2.220414e+02   3.109350e-01          1       3150\n",
      "       15    2.550000e+01   2.222155e+02   3.141110e-01          1       3177\n",
      "       16    9.295787e+01   2.224177e+02   3.203530e-01          1       3240\n",
      "       17    2.024663e+02   2.237513e+02   3.391252e-01          1       3471\n",
      "       18    1.786802e+02   2.252946e+02   3.725491e-01          1       3678\n",
      "       19    5.183602e+01   2.257799e+02   3.798752e-01          1       3753\n",
      "       20    1.687019e+01   2.259215e+02   3.826380e-01          1       3780\n",
      "       21    1.455446e+02   2.266926e+02   3.973761e-01          1       3951\n",
      "       22    5.831330e+02   2.288197e+02   4.413321e-01          1       4482\n",
      "       23    4.688219e+01   2.291724e+02   4.460940e-01          1       4509\n",
      "       24    1.547217e+02   2.296047e+02   4.589012e-01          1       4656\n",
      "       25    1.750000e+01   2.296974e+02   4.630840e-01          1       4695\n",
      "       26    6.772029e+02   2.315968e+02   5.115991e-01          1       5262\n",
      "       27    6.916754e+01   2.315968e+02   5.151930e-01          1       5301\n",
      "       28    5.556153e+02   2.325913e+02   5.703430e-01          1       5892\n",
      "       29    6.738899e+02   2.330817e+02   6.298032e-01          1       6531\n",
      "       30    1.656980e+01   2.333036e+02   6.381121e-01          1       6594\n",
      "       31    1.058691e+02   2.334134e+02   6.528511e-01          1       6717\n",
      "       32    8.299044e+01   2.335159e+02   6.756570e-01          1       6816\n",
      "       33    3.956588e+02   2.341569e+02   7.189710e-01          1       7227\n",
      "       34    7.260592e+02   2.343684e+02   7.968221e-01          1       8034\n",
      "       35    2.100000e+01   2.343703e+02   8.032582e-01          1       8073\n",
      "       36    2.009290e+02   2.346676e+02   8.277991e-01          1       8256\n",
      "       37    6.789411e+02   2.349579e+02   9.187901e-01          1       8967\n",
      "       38    3.165763e+02   2.350269e+02   9.521701e-01          1       9234\n",
      "       39    3.498832e+01   2.350978e+02   9.541571e-01          1       9249\n",
      "       40    5.000000e-01   2.351028e+02   9.561551e-01          1       9264\n",
      "       41    3.567680e+02   2.352882e+02   9.918051e-01          1       9591\n",
      "       42    1.450000e+01   2.352998e+02   9.964490e-01          1       9630\n",
      "       43    1.266424e+03   2.356376e+02   1.153373e+00          1      10821\n",
      "       44    1.598306e+01   2.356376e+02   1.160412e+00          1      10860\n",
      "       45    3.265762e+02   2.357605e+02   1.214041e+00          1      11211\n",
      "       46    3.289686e+02   2.358422e+02   1.269799e+00          1      11526\n",
      "       47    2.528192e+02   2.358903e+02   1.296702e+00          1      11697\n",
      "       48    1.438819e+02   2.358943e+02   1.311813e+00          1      11796\n",
      "       49    3.450061e+02   2.359809e+02   1.360209e+00          1      12099\n",
      "       50    4.809885e+02   2.360026e+02   1.450536e+00          1      12642\n",
      "       51    2.439852e+01   2.360316e+02   1.456296e+00          1      12669\n",
      "       52    6.703478e+01   2.360355e+02   1.465093e+00          1      12720\n",
      "       53    1.296498e+01   2.360434e+02   1.468112e+00          1      12735\n",
      "       54    1.630056e+02   2.360492e+02   1.496711e+00          1      12894\n",
      "       55    1.038407e+02   2.360715e+02   1.512171e+00          1      12981\n",
      "       56    3.021473e+02   2.360913e+02   1.584561e+00          1      13320\n",
      "       57    1.105772e+02   2.361186e+02   1.599072e+00          1      13395\n",
      "       58    4.244430e+01   2.361308e+02   1.617401e+00          1      13494\n",
      "       59    1.602100e+01   2.361331e+02   1.625223e+00          1      13533\n",
      "       60    2.763313e+02   2.361408e+02   1.674018e+00          1      13812\n",
      "       61    2.670128e+02   2.361737e+02   1.723770e+00          1      14103\n",
      "       62    2.346499e+02   2.361950e+02   1.769093e+00          1      14346\n",
      "       63    6.198438e+01   2.362038e+02   1.785495e+00          1      14433\n",
      "       64    8.443720e+01   2.362062e+02   1.806271e+00          1      14544\n",
      "       65    1.900000e+01   2.362136e+02   1.816250e+00          1      14595\n",
      "       66    1.755270e+02   2.362143e+02   1.851358e+00          1      14778\n",
      "       67    3.983143e+02   2.362452e+02   1.924923e+00          1      15165\n",
      "       68    1.169488e+02   2.362470e+02   1.940701e+00          1      15252\n",
      "       69    1.734902e+02   2.362575e+02   1.965941e+00          1      15399\n",
      "       70    3.699518e+02   2.362765e+02   2.021356e+00          1      15702\n",
      "       71    5.770802e+02   2.363126e+02   2.140574e+00          1      16365\n",
      "       72    2.460272e+02   2.363155e+02   2.199361e+00          1      16608\n",
      "       73    1.040376e+02   2.363196e+02   2.215587e+00          1      16695\n",
      "       74    1.095031e+02   2.363252e+02   2.241622e+00          1      16830\n",
      "       75    4.487407e+02   2.363365e+02   2.323702e+00          1      17265\n",
      "       76    4.300000e+02   2.363419e+02   2.399113e+00          1      17652\n",
      "       77    2.285397e+02   2.363497e+02   2.458793e+00          1      17883\n",
      "       78    3.300267e+01   2.363533e+02   2.479923e+00          1      17958\n",
      "       79    5.830429e+02   2.363565e+02   2.629948e+00          1      18597\n",
      "       80    7.973248e+00   2.363624e+02   2.634043e+00          1      18612\n",
      "       81    3.430008e+02   2.363642e+02   2.722873e+00          1      18999\n",
      "       82    7.210569e+02   2.363824e+02   2.906387e+00          1      19698\n",
      "       83    3.163627e+02   2.363872e+02   2.986981e+00          1      20037\n",
      "       84    2.450058e+02   2.363893e+02   3.061681e+00          1      20328\n",
      "       85    8.579766e+02   2.364017e+02   3.281501e+00          1      21219\n",
      "       86    8.000000e+00   2.364019e+02   3.289014e+00          1      21246\n",
      "       87    2.694564e+02   2.364036e+02   3.350279e+00          1      21501\n",
      "       88    1.314927e+02   2.364049e+02   3.373166e+00          1      21600\n",
      "       89    6.410055e+02   2.364104e+02   3.549195e+00          1      22347\n",
      "       90    6.800844e+01   2.364106e+02   3.571634e+00          1      22434\n",
      "       91    3.315087e+02   2.364143e+02   3.651952e+00          1      22761\n",
      "       92    1.280120e+02   2.364151e+02   3.699355e+00          1      22896\n",
      "       93    1.404953e+02   2.364152e+02   3.733474e+00          1      23019\n",
      "       94    4.950000e+01   2.364161e+02   3.745763e+00          1      23070\n",
      "       95    2.500000e+00   2.364162e+02   3.749362e+00          1      23085\n",
      "       96    3.865003e+02   2.364178e+02   3.819608e+00          1      23388\n",
      "       97    3.999762e+01   2.364180e+02   3.831251e+00          1      23427\n",
      "       98    5.704550e+02   2.364204e+02   4.016255e+00          1      23970\n",
      "       99    3.549994e+01   2.364204e+02   4.020704e+00          1      23985\n",
      "      100    1.000000e+01   2.364206e+02   4.029410e+00          1      24012\n",
      "\n",
      "Terminating training with status: iteration_limit\n",
      "------------------------------------------------------------------------------\n"
     ]
    },
    {
     "data": {
      "text/plain": [
       "(233.54423607153885, Dict(:x=>-0.658424))"
      ]
     },
     "execution_count": 38,
     "metadata": {},
     "output_type": "execute_result"
    }
   ],
   "source": [
    "infinite_horizon = SDDP.PolicyGraph(\n",
    "    graph, \n",
    "    sense = :Min, \n",
    "    lower_bound = 0.0, \n",
    "    optimizer = with_optimizer(Gurobi.Optimizer, GRB_ENV),\n",
    ") do sp, t\n",
    "    set_silent(sp)\n",
    "    @variable(sp, x_lower <= x <= x_upper, SDDP.State, initial_value = x_0)\n",
    "    @variables(sp, begin\n",
    "        g_t >= 0\n",
    "        g_h >= 0\n",
    "        s   >= 0\n",
    "        inflow  # This time we add inflow as a slack variable\n",
    "        demand  # Same for demand.\n",
    "    end)\n",
    "    @constraints(sp, begin\n",
    "        x.out == x.in - g_h - s + inflow\n",
    "        g_h + g_t == demand\n",
    "    end)\n",
    "    @stageobjective(sp, s + t * g_t)\n",
    "    SDDP.parameterize(sp, Ω, P) do ω\n",
    "        fix(inflow, ω[1])\n",
    "        fix(demand, ω[2])\n",
    "    end\n",
    "end\n",
    "SDDP.train(infinite_horizon, iteration_limit = 100)\n",
    "V = SDDP.ValueFunction(infinite_horizon[1])\n",
    "set_silent(V.model)\n",
    "cost, price = SDDP.evaluate(V, x = 10)"
   ]
  },
  {
   "cell_type": "code",
   "execution_count": 39,
   "metadata": {},
   "outputs": [],
   "source": [
    "SDDP.plot(V, x = x_lower:0.05:x_upper)"
   ]
  }
 ],
 "metadata": {
  "@webio": {
   "lastCommId": null,
   "lastKernelId": null
  },
  "kernelspec": {
   "display_name": "Julia 1.1.0",
   "language": "julia",
   "name": "julia-1.1"
  },
  "language_info": {
   "file_extension": ".jl",
   "mimetype": "application/julia",
   "name": "julia",
   "version": "1.1.0"
  }
 },
 "nbformat": 4,
 "nbformat_minor": 2
}
