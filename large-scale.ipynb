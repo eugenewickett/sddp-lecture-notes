{
 "cells": [
  {
   "cell_type": "markdown",
   "metadata": {},
   "source": [
    "# JuMP\n",
    "\n",
    "JuMP is an _algebraic modeling language_ in Julia. It stands for Julia for Mathematical Programming.\n",
    "\n",
    "It is similar in aim to other algebraic modeling languages like AMPL, CVX, CVXpy, GAMS, Pyomo, ...\n",
    "\n",
    "## Useful links\n",
    "\n",
    "- Website: https://jump.dev\n",
    "- Installation: https://www.juliaopt.org/JuMP.jl/stable/installation/\n",
    "- Quickstart: https://www.juliaopt.org/JuMP.jl/stable/quickstart/\n",
    "- Tutorials: https://github.com/JuliaOpt/JuMPTutorials.jl\n",
    "- MathOptInterface. What? Why? How? http://www.optimization-online.org/DB_HTML/2020/02/7609.html"
   ]
  },
  {
   "cell_type": "code",
   "execution_count": 1,
   "metadata": {
    "scrolled": true
   },
   "outputs": [
    {
     "name": "stdout",
     "output_type": "stream",
     "text": [
      "Academic license - for non-commercial use only\n",
      "Max 5 x + 3 y\n",
      "Subject to\n",
      " x + 5 y ≤ 3.0\n",
      " x ≥ 0.0\n",
      " y ≥ 0.0\n",
      " x ≤ 2.0\n",
      " y ≤ 30.0\n",
      "\n"
     ]
    }
   ],
   "source": [
    "using JuMP\n",
    "using Gurobi\n",
    "\n",
    "model = Model(with_optimizer(Gurobi.Optimizer))\n",
    "set_silent(model)\n",
    "\n",
    "@variable(model, 0 <= x <= 2)\n",
    "@variable(model, 0 <= y <= 30)\n",
    "\n",
    "@objective(model, Max, 5x + 3y)\n",
    "\n",
    "@constraint(model, my_con, x + 5y <= 3)\n",
    "\n",
    "println(model)"
   ]
  },
  {
   "cell_type": "code",
   "execution_count": 2,
   "metadata": {},
   "outputs": [
    {
     "name": "stdout",
     "output_type": "stream",
     "text": [
      "Academic license - for non-commercial use only\n",
      "\n",
      "JuMP.termination_status(model) = OPTIMAL::TerminationStatusCode = 1\n",
      "primal_status(model) = FEASIBLE_POINT::ResultStatusCode = 1\n",
      "dual_status(model) = FEASIBLE_POINT::ResultStatusCode = 1\n",
      "objective_value(model) = 10.6\n",
      "value(x) = 2.0\n",
      "value(y) = 0.2\n",
      "dual(my_con) = -0.6\n",
      "shadow_price(my_con) = 0.6\n"
     ]
    },
    {
     "data": {
      "text/plain": [
       "0.6"
      ]
     },
     "execution_count": 2,
     "metadata": {},
     "output_type": "execute_result"
    }
   ],
   "source": [
    "optimize!(model)\n",
    "\n",
    "println()\n",
    "\n",
    "@show JuMP.termination_status(model)\n",
    "@show primal_status(model)\n",
    "@show dual_status(model)\n",
    "@show objective_value(model)\n",
    "@show value(x)\n",
    "@show value(y)\n",
    "@show dual(my_con)\n",
    "@show shadow_price(my_con)"
   ]
  },
  {
   "cell_type": "markdown",
   "metadata": {},
   "source": [
    "JuMP's not just for linear programming. You can also create crazy models!"
   ]
  },
  {
   "cell_type": "code",
   "execution_count": 3,
   "metadata": {},
   "outputs": [
    {
     "data": {
      "text/latex": [
       "$$ \\begin{alignat*}{1}\\min\\quad & 0.25 Y_{1,1} + 0.5 Y_{1,2} + 0.25 Y_{2,2} + x_{1} + x_{2} + x_{3} + x_{4}\\\\\n",
       "\\text{Subject to} \\quad & \\begin{bmatrix}\n",
       "Y_{1,1} & Y_{1,2}\\\\\n",
       "\\cdot & Y_{2,2}\\\\\n",
       "\\end{bmatrix} \\in PSDCone()\\\\\n",
       " & x_{1} \\geq 1.0\\\\\n",
       " & x_{2} \\geq 2.0\\\\\n",
       " & x_{3} \\geq 3.0\\\\\n",
       " & x_{4} \\geq 4.0\\\\\n",
       " & (sin(x_{1}) + sin(x_{2}) + sin(x_{3}) + sin(x_{4})) - 3.141592653589793 = 0\\\\\n",
       "\\end{alignat*}\n",
       " $$"
      ],
      "text/plain": [
       "A JuMP Model\n",
       "Minimization problem with:\n",
       "Variables: 7\n",
       "Objective function type: GenericAffExpr{Float64,VariableRef}\n",
       "`Array{VariableRef,1}`-in-`MathOptInterface.PositiveSemidefiniteConeTriangle`: 1 constraint\n",
       "`VariableRef`-in-`MathOptInterface.GreaterThan{Float64}`: 4 constraints\n",
       "Nonlinear: 1 constraint\n",
       "Model mode: AUTOMATIC\n",
       "CachingOptimizer state: NO_OPTIMIZER\n",
       "Solver name: No optimizer attached.\n",
       "Names registered in the model: Y, x"
      ]
     },
     "execution_count": 3,
     "metadata": {},
     "output_type": "execute_result"
    }
   ],
   "source": [
    "model = Model()\n",
    "@variable(model, x[i = 1:4] >= i)\n",
    "@variable(model, Y[1:2, 1:2], PSD)\n",
    "@NLconstraint(model, sum(sin(x[i]) for i = 1:4) == π)\n",
    "@objective(model, Min, [0.5, 0.5]' * Y * [0.5, 0.5] + sum(x))\n",
    "model"
   ]
  },
  {
   "cell_type": "markdown",
   "metadata": {},
   "source": [
    "## Why should I use JuMP over...\n",
    "\n",
    "- gurobipy? \n",
    "\n",
    "Not bound to one particular solver (but can still use Gurobi). Also supports nonlinear programming and conic problems (semidefinite programming, etc.)\n",
    "\n",
    "- AMPL/GAMS/AIMMS/etc.?\n",
    "\n",
    "Embedded in a high-level language. \n",
    "\n",
    "- PuLP?\n",
    "\n",
    "Supports nonlinear, conic, callbacks, etc.\n",
    "\n",
    "- Pyomo?\n",
    "\n",
    "Interfaces with solvers via in-memory APIs. Can be orders of magnitude faster if you are solving problems sequentially.\n",
    "\n",
    "- C/C++ APIs for CPLEX/Gurobi/...\n",
    "\n",
    "Faster development time."
   ]
  },
  {
   "cell_type": "markdown",
   "metadata": {},
   "source": [
    "# SDDP.jl\n",
    "\n",
    "## Hydro-thermal scheduling\n",
    "\n",
    "## Problem Description\n",
    "\n",
    "In a hydro-thermal problem, the agent controls a hydro-electric generator and reservoir.\n",
    "\n",
    "Each time period, they need to choose a generation quantity from thermal `g_t`, and hydro\n",
    "`g_h`, in order to meed demand `w_d`, which is a stagewise-independent random variable.\n",
    "\n",
    "The state variable, `x`, is the quantity of water in the reservoir at the start of each\n",
    "time period, and it has a minimum level of 5 units and a maximum level of 15 units. \n",
    "\n",
    "We\n",
    "assume that there are 10 units of water in the reservoir at the start of time, so that\n",
    "`x_0 = 10`. \n",
    "\n",
    "The state-variable is connected through time by the water balance constraint:\n",
    "`x.out = x.in - g_h - s + w_i,` where `x.out` is the quantity of water at the end of the\n",
    "time period, `x.in` is the quantity of water at the start of the time period, `s` is the\n",
    "quantity of water spilled from the reservoir, and `w_i` is a stagewise-independent random\n",
    "variable that represents the inflow into the reservoir during the time period.\n",
    "\n",
    "We assume that there are three stages, `t=1, 2, 3`, representing summer-fall, winter, and\n",
    "spring.\n",
    "\n",
    "In each stage, the agent incurs the cost of spillage, plus the cost of thermal generation.\n",
    "\n",
    "We assume that the cost of thermal generation is dependent on the stage `t = 1, 2, 3`, and\n",
    "that in each stage, `w` is drawn from the set `(w_i, w_d) = {(0, 7.5), (3, 5), (10, 2.5)}`\n",
    "with equal probability."
   ]
  },
  {
   "cell_type": "code",
   "execution_count": 4,
   "metadata": {},
   "outputs": [
    {
     "data": {
      "text/plain": [
       "3-element Array{Float64,1}:\n",
       " 0.3333333333333333\n",
       " 0.3333333333333333\n",
       " 0.3333333333333333"
      ]
     },
     "execution_count": 4,
     "metadata": {},
     "output_type": "execute_result"
    }
   ],
   "source": [
    "const x_lower = 5\n",
    "const x_upper = 15\n",
    "const x_0 = 10\n",
    "const T = 3\n",
    "const Ω = [(0, 7.5), (3, 5), (10, 2.5)]\n",
    "const P = [1/3, 1/3, 1/3]"
   ]
  },
  {
   "cell_type": "markdown",
   "metadata": {},
   "source": [
    "## Importing packages\n",
    "\n",
    "For this example, in addition to `SDDP`, we need `Gurobi` as a solver, and `Statisitics` to\n",
    "compute the mean of our simulations."
   ]
  },
  {
   "cell_type": "code",
   "execution_count": 5,
   "metadata": {},
   "outputs": [
    {
     "name": "stdout",
     "output_type": "stream",
     "text": [
      "Academic license - for non-commercial use only\n"
     ]
    }
   ],
   "source": [
    "using Gurobi\n",
    "using SDDP\n",
    "using Statistics\n",
    "\n",
    "# Initialize the Gurobi environment once.\n",
    "const GRB_ENV = Gurobi.Env();"
   ]
  },
  {
   "cell_type": "markdown",
   "metadata": {},
   "source": [
    "## Solving a finite horizon policy\n",
    "\n",
    "Much of the macro code (i.e., lines starting with `@`) in the first part of the following\n",
    "should be familiar to users of JuMP.\n",
    "\n",
    "Inside the `do-end` block, `sp` is a standard JuMP model, and `t` is an\n",
    "index for the state variable that will be called with `t = 1, 2, 3`.\n",
    "\n",
    "The state variable `x`, constructed by passing the `SDDP.State` tag to `@variable` is\n",
    "actually a Julia struct with two fields: `x.in` and `x.out` corresponding to the incoming\n",
    "and outgoing state variables respectively. Both `x.in` and `x.out` are standard JuMP\n",
    "variables. The `initial_value` keyword provides the value of the state variable in the\n",
    "root node (i.e., `x_0`).\n",
    "\n",
    "Compared to a JuMP model, one key difference is that we use `@stageobjective`\n",
    "instead of `@objective`. The `SDDP.parameterize` function takes a list of supports\n",
    "for `w` and parameterizes the JuMP model `sp` by setting the right-hand sides of the\n",
    "appropriate constraints (note how the constraints initially have a right-hand side of\n",
    "`0`). By default, it is assumed that the realizations have uniform probability, but a\n",
    "probability mass vector can also be provided."
   ]
  },
  {
   "cell_type": "code",
   "execution_count": 6,
   "metadata": {},
   "outputs": [
    {
     "data": {
      "text/plain": [
       "A policy graph with 3 nodes.\n",
       " Node indices: 1, 2, 3\n"
      ]
     },
     "execution_count": 6,
     "metadata": {},
     "output_type": "execute_result"
    }
   ],
   "source": [
    "finite_horizon = SDDP.LinearPolicyGraph(\n",
    "    stages = T, \n",
    "    sense = :Min, \n",
    "    lower_bound = 0.0, \n",
    "    optimizer = with_optimizer(Gurobi.Optimizer, GRB_ENV),\n",
    ") do sp, t\n",
    "    set_silent(sp)\n",
    "    @variable(sp, x_lower <= x <= x_upper, SDDP.State, initial_value = x_0)\n",
    "    @variable(sp, g_t >= 0)\n",
    "    @variable(sp, g_h >= 0)\n",
    "    @variable(sp, s >= 0)\n",
    "    @constraint(sp, balance, x.out - x.in + g_h + s == 0)\n",
    "    @constraint(sp, demand, g_h + g_t == 0)\n",
    "    @stageobjective(sp, s + t * g_t)\n",
    "    SDDP.parameterize(sp, Ω, P) do ω\n",
    "        set_normalized_rhs(balance, ω[1])\n",
    "        set_normalized_rhs(demand, ω[2])\n",
    "    end\n",
    "end"
   ]
  },
  {
   "cell_type": "markdown",
   "metadata": {},
   "source": [
    "## Training the policy\n",
    "\n",
    "Once a model has been constructed, the next step is to train the policy. This can be\n",
    "achieved using `SDDP.train`. There are many options that can be passed, but\n",
    "`iteration_limit` terminates the training after the prescribed number of SDDP iterations."
   ]
  },
  {
   "cell_type": "code",
   "execution_count": 7,
   "metadata": {},
   "outputs": [
    {
     "name": "stdout",
     "output_type": "stream",
     "text": [
      "--------------------------------------------------------------------------------\n",
      "                      SDDP.jl (c) Oscar Dowson, 2017-20\n",
      "\n",
      "Numerical stability report\n",
      "  Non-zero Matrix range     [1e+00, 1e+00]\n",
      "  Non-zero Objective range  [1e+00, 3e+00]\n",
      "  Non-zero Bounds range     [5e+00, 2e+01]\n",
      "  Non-zero RHS range        [3e+00, 1e+01]\n",
      "No problems detected\n",
      "\n",
      "Solver: serial mode\n",
      "\n",
      " Iteration    Simulation       Bound         Time (s)    Proc. ID   # Solves\n",
      "        1    5.000000e-01   5.222222e+00   3.770385e+00          1         12\n",
      "        2    9.000000e+00   1.000000e+01   4.012277e+00          1         24\n",
      "        3    8.000000e+00   1.092593e+01   4.014264e+00          1         36\n",
      "        4    9.000000e+00   1.092593e+01   4.015633e+00          1         48\n",
      "        5    2.500000e+00   1.092593e+01   4.016851e+00          1         60\n",
      "        6    2.500000e+00   1.092593e+01   4.018106e+00          1         72\n",
      "        7    2.000000e+01   1.092593e+01   4.019272e+00          1         84\n",
      "        8    5.000000e-01   1.092593e+01   4.020362e+00          1         96\n",
      "        9    2.500000e+00   1.098148e+01   4.021489e+00          1        108\n",
      "       10    2.500000e+00   1.098148e+01   4.022480e+00          1        120\n",
      "       11    5.000000e-01   1.098148e+01   4.023531e+00          1        132\n",
      "       12    1.500000e+01   1.098148e+01   4.024700e+00          1        144\n",
      "       13    2.500000e+00   1.098148e+01   4.027169e+00          1        156\n",
      "       14    2.500000e+00   1.098148e+01   4.029415e+00          1        168\n",
      "       15    2.500000e+00   1.098148e+01   4.031934e+00          1        180\n",
      "       16    1.750000e+01   1.098148e+01   4.034137e+00          1        192\n",
      "       17    3.000000e+00   1.098148e+01   4.035820e+00          1        204\n",
      "       18    2.500000e+00   1.098148e+01   4.037336e+00          1        216\n",
      "       19    8.000000e+00   1.098148e+01   4.038856e+00          1        228\n",
      "Simulated policy value: [ 8.571225e+00,  1.219877e+01]\n",
      "       20    1.950000e+01   1.098148e+01   4.040583e+00          1        240\n",
      "\n",
      "Terminating training with status: statistical\n",
      "------------------------------------------------------------------------------\n"
     ]
    }
   ],
   "source": [
    "SDDP.train(\n",
    "    finite_horizon, \n",
    "    stopping_rules = [\n",
    "        SDDP.Statistical(\n",
    "            num_replications = 100, \n",
    "            iteration_period = 20, \n",
    "            z_score = 1.96,\n",
    "            verbose = true\n",
    "        )\n",
    "    ]\n",
    ")"
   ]
  },
  {
   "cell_type": "markdown",
   "metadata": {},
   "source": [
    "## Simulating the policy\n",
    "\n",
    "After training, we can simulate the policy using `SDDP.simulate`."
   ]
  },
  {
   "cell_type": "code",
   "execution_count": 8,
   "metadata": {},
   "outputs": [
    {
     "name": "stdout",
     "output_type": "stream",
     "text": [
      "On average, 1.55 units of thermal are used in the first stage.\n"
     ]
    }
   ],
   "source": [
    "sims = SDDP.simulate(finite_horizon, 1_000, [:x, :g_t])\n",
    "mu = round(mean([s[1][:g_t] for s in sims]), digits = 2)\n",
    "println(\"On average, $(mu) units of thermal are used in the first stage.\")"
   ]
  },
  {
   "cell_type": "markdown",
   "metadata": {},
   "source": [
    "`sims` is a vector of vectors of dictionaries. It has the following content:"
   ]
  },
  {
   "cell_type": "code",
   "execution_count": 9,
   "metadata": {},
   "outputs": [
    {
     "data": {
      "text/plain": [
       "Dict{Symbol,Any} with 8 entries:\n",
       "  :g_t             => 4.5\n",
       "  :bellman_term    => 9.5\n",
       "  :noise_term      => (0, 7.5)\n",
       "  :node_index      => 2\n",
       "  :stage_objective => 9.0\n",
       "  :objective_state => nothing\n",
       "  :belief          => Dict(2=>1.0)\n",
       "  :x               => State{Float64}(8.0, 5.0)"
      ]
     },
     "execution_count": 9,
     "metadata": {},
     "output_type": "execute_result"
    }
   ],
   "source": [
    "replication = 1\n",
    "stage = 2\n",
    "sims[replication][stage]"
   ]
  },
  {
   "cell_type": "markdown",
   "metadata": {},
   "source": [
    "We can visualize the solution using a spaghetti plot (you'll see why it has this name)."
   ]
  },
  {
   "cell_type": "code",
   "execution_count": 10,
   "metadata": {},
   "outputs": [],
   "source": [
    "p = SDDP.SpaghettiPlot(sims)\n",
    "SDDP.add_spaghetti(p, title = \"Reservoir Level\") do data \n",
    "    return data[:x].out\n",
    "end\n",
    "SDDP.add_spaghetti(p, title = \"Thermal Generation\") do data \n",
    "    return data[:g_t]\n",
    "end\n",
    "SDDP.add_spaghetti(p, title = \"Inflow\") do data \n",
    "    return data[:noise_term][1]\n",
    "end\n",
    "SDDP.add_spaghetti(p, title = \"Demand\") do data \n",
    "    return data[:noise_term][2]\n",
    "end\n",
    "SDDP.plot(p)"
   ]
  },
  {
   "cell_type": "markdown",
   "metadata": {},
   "source": [
    "## Extracting the water values\n",
    "\n",
    "Finally, we can use `SDDP.ValueFunction` and `SDDP.evaluate` to obtain and\n",
    "evaluate the value function at different points in the state-space. Note that since we\n",
    "are minimizing, the price has a negative sign: each additional unit of water leads to a\n",
    "decrease in the the expected long-run cost."
   ]
  },
  {
   "cell_type": "code",
   "execution_count": 11,
   "metadata": {},
   "outputs": [
    {
     "data": {
      "text/plain": [
       "(7.666666666666664, Dict(:x=>-1.0))"
      ]
     },
     "execution_count": 11,
     "metadata": {},
     "output_type": "execute_result"
    }
   ],
   "source": [
    "V = SDDP.ValueFunction(finite_horizon[1])\n",
    "set_silent(V.model)\n",
    "cost, price = SDDP.evaluate(V, x = 0.5 * (x_lower + x_upper))"
   ]
  },
  {
   "cell_type": "code",
   "execution_count": 12,
   "metadata": {},
   "outputs": [],
   "source": [
    "SDDP.plot(V, x = x_lower:0.05:x_upper)"
   ]
  },
  {
   "cell_type": "markdown",
   "metadata": {},
   "source": [
    "## Solving an infinite horizon policy\n",
    "\n",
    "There are three stages in our problem, so we construct a linear policy graph with three\n",
    "stages using `SDDP.LinearGraph`:"
   ]
  },
  {
   "cell_type": "code",
   "execution_count": 13,
   "metadata": {},
   "outputs": [
    {
     "data": {
      "text/plain": [
       "Root\n",
       " 0\n",
       "Nodes\n",
       " 1\n",
       " 2\n",
       " 3\n",
       "Arcs\n",
       " 0 => 1 w.p. 1.0\n",
       " 1 => 2 w.p. 1.0\n",
       " 2 => 3 w.p. 1.0\n"
      ]
     },
     "execution_count": 13,
     "metadata": {},
     "output_type": "execute_result"
    }
   ],
   "source": [
    "graph = SDDP.LinearGraph(T)"
   ]
  },
  {
   "cell_type": "markdown",
   "metadata": {},
   "source": [
    "Then, because we want to solve an infinite-horizon problem, we add an additional edge\n",
    "between node `3` and node `1` with probability `0.95`:"
   ]
  },
  {
   "cell_type": "code",
   "execution_count": 14,
   "metadata": {},
   "outputs": [
    {
     "data": {
      "text/plain": [
       "Root\n",
       " 0\n",
       "Nodes\n",
       " 1\n",
       " 2\n",
       " 3\n",
       "Arcs\n",
       " 0 => 1 w.p. 1.0\n",
       " 1 => 2 w.p. 1.0\n",
       " 2 => 3 w.p. 1.0\n",
       " 3 => 1 w.p. 0.95\n"
      ]
     },
     "execution_count": 14,
     "metadata": {},
     "output_type": "execute_result"
    }
   ],
   "source": [
    "SDDP.add_edge(graph, T => 1, 0.95)\n",
    "graph"
   ]
  },
  {
   "cell_type": "code",
   "execution_count": 15,
   "metadata": {},
   "outputs": [
    {
     "name": "stdout",
     "output_type": "stream",
     "text": [
      "--------------------------------------------------------------------------------\n",
      "                      SDDP.jl (c) Oscar Dowson, 2017-20\n",
      "\n",
      "Numerical stability report\n",
      "  Non-zero Matrix range     [1e+00, 1e+00]\n",
      "  Non-zero Objective range  [1e+00, 3e+00]\n",
      "  Non-zero Bounds range     [5e+00, 2e+01]\n",
      "  Non-zero RHS range        [0e+00, 0e+00]\n",
      "No problems detected\n",
      "\n",
      "Solver: serial mode\n",
      "\n",
      " Iteration    Simulation       Bound         Time (s)    Proc. ID   # Solves\n",
      "        1    3.175000e+02   7.741812e+01   1.754713e-02          1        279\n",
      "        2    4.157295e+02   1.452217e+02   6.257415e-02          1        762\n",
      "        3    1.235000e+02   1.502527e+02   6.929398e-02          1        861\n",
      "        4    2.713053e+02   1.688384e+02   8.556104e-02          1       1080\n",
      "        5    5.441088e+01   1.707841e+02   8.853698e-02          1       1119\n",
      "        6    1.409042e+02   1.774969e+02   9.679294e-02          1       1230\n",
      "        7    8.768695e+02   1.997702e+02   1.563830e-01          1       2025\n",
      "        8    3.649870e+02   2.118814e+02   1.911490e-01          1       2460\n",
      "        9    1.342260e+02   2.140365e+02   2.081511e-01          1       2619\n",
      "       10    4.582387e+02   2.208532e+02   2.477200e-01          1       3018\n",
      "       11    1.790071e+02   2.218062e+02   2.608511e-01          1       3165\n",
      "       12    8.750000e+01   2.222668e+02   2.666700e-01          1       3240\n",
      "       13    1.171682e+02   2.230067e+02   2.729251e-01          1       3315\n",
      "       14    5.341437e+01   2.235381e+02   2.804670e-01          1       3414\n",
      "       15    9.792999e+01   2.241665e+02   2.890441e-01          1       3537\n",
      "       16    3.590143e+02   2.258513e+02   3.234270e-01          1       3864\n",
      "       17    1.471647e+02   2.262641e+02   3.332081e-01          1       3975\n",
      "       18    6.879622e+00   2.266618e+02   3.355479e-01          1       4002\n",
      "       19    2.951150e+02   2.286071e+02   3.622220e-01          1       4353\n",
      "       20    2.026125e+02   2.297335e+02   3.788950e-01          1       4572\n",
      "       21    1.024672e+02   2.299606e+02   3.858411e-01          1       4659\n",
      "       22    3.790412e+01   2.303381e+02   3.910091e-01          1       4722\n",
      "       23    1.685995e+02   2.306077e+02   4.012890e-01          1       4857\n",
      "       24    1.312882e+03   2.329020e+02   5.082970e-01          1       6168\n",
      "       25    7.938957e+01   2.329853e+02   5.254719e-01          1       6339\n",
      "       26    1.150311e+02   2.332376e+02   5.354459e-01          1       6450\n",
      "       27    1.180803e+02   2.334355e+02   5.478911e-01          1       6585\n",
      "       28    1.750000e+01   2.334867e+02   5.496280e-01          1       6600\n",
      "       29    8.370624e+02   2.338488e+02   6.491241e-01          1       7347\n",
      "       30    2.422732e+02   2.340775e+02   6.769459e-01          1       7554\n",
      "       31    5.317271e+01   2.340775e+02   6.838651e-01          1       7617\n",
      "       32    5.545572e+01   2.342102e+02   6.940880e-01          1       7692\n",
      "       33    3.073791e+02   2.344310e+02   7.303891e-01          1       8019\n",
      "       34    7.035602e+01   2.344870e+02   7.405951e-01          1       8106\n",
      "       35    1.550000e+01   2.344988e+02   7.441921e-01          1       8133\n",
      "       36    3.079674e+01   2.346002e+02   7.494490e-01          1       8184\n",
      "       37    1.936694e+01   2.346170e+02   7.542381e-01          1       8211\n",
      "       38    8.000000e+00   2.346177e+02   7.562821e-01          1       8226\n",
      "       39    1.823649e+02   2.346909e+02   7.842321e-01          1       8457\n",
      "       40    1.550000e+01   2.346951e+02   7.896430e-01          1       8496\n",
      "       41    2.987652e+02   2.348973e+02   8.221960e-01          1       8787\n",
      "       42    1.532867e+01   2.349286e+02   8.266051e-01          1       8826\n",
      "       43    2.226407e+02   2.351494e+02   8.597760e-01          1       9129\n",
      "       44    5.290513e+02   2.352412e+02   9.069970e-01          1       9552\n",
      "       45    1.010862e+02   2.353457e+02   9.169230e-01          1       9639\n",
      "       46    3.625093e+02   2.354222e+02   9.559820e-01          1      10002\n",
      "       47    7.004811e+02   2.356307e+02   1.050149e+00          1      10629\n",
      "       48    1.900000e+01   2.356440e+02   1.057232e+00          1      10668\n",
      "       49    4.187676e+02   2.356716e+02   1.129637e+00          1      11115\n",
      "       50    1.250700e+01   2.357287e+02   1.135116e+00          1      11142\n",
      "       51    6.504460e+01   2.357421e+02   1.144142e+00          1      11193\n",
      "       52    8.800061e+02   2.357973e+02   1.302438e+00          1      12180\n",
      "       53    4.738151e+02   2.359076e+02   1.364932e+00          1      12591\n",
      "       54    5.042009e+01   2.359127e+02   1.378002e+00          1      12666\n",
      "       55    3.349318e+02   2.359855e+02   1.458000e+00          1      13053\n",
      "       56    1.544053e+02   2.359944e+02   1.500563e+00          1      13248\n",
      "       57    7.850000e+01   2.360161e+02   1.519820e+00          1      13335\n",
      "       58    2.659989e+02   2.360387e+02   1.564324e+00          1      13506\n",
      "       59    1.468076e+02   2.360597e+02   1.591341e+00          1      13641\n",
      "       60    3.570860e+02   2.360821e+02   1.652414e+00          1      13956\n",
      "       61    6.387830e+01   2.361020e+02   1.665843e+00          1      14019\n",
      "       62    3.382304e+02   2.361213e+02   1.744282e+00          1      14346\n",
      "       63    6.457563e+01   2.361213e+02   1.758748e+00          1      14421\n",
      "       64    1.787266e+03   2.362082e+02   2.109874e+00          1      16128\n",
      "       65    1.586264e+02   2.362107e+02   2.188691e+00          1      16407\n",
      "       66    3.416168e+02   2.362394e+02   2.272647e+00          1      16782\n",
      "       67    3.356661e+02   2.362541e+02   2.353289e+00          1      17109\n",
      "       68    2.230356e+02   2.362556e+02   2.396414e+00          1      17292\n",
      "       69    1.773813e+02   2.362672e+02   2.430897e+00          1      17439\n",
      "       70    6.802574e+01   2.362688e+02   2.455196e+00          1      17538\n",
      "       71    4.135448e+02   2.362882e+02   2.549521e+00          1      17937\n",
      "       72    1.000000e+01   2.362883e+02   2.553847e+00          1      17952\n",
      "       73    8.198078e+01   2.362965e+02   2.584480e+00          1      18075\n",
      "       74    2.840090e+02   2.363000e+02   2.645445e+00          1      18342\n",
      "       75    7.000154e+01   2.363081e+02   2.656061e+00          1      18393\n",
      "       76    1.296047e+02   2.363112e+02   2.690704e+00          1      18540\n",
      "       77    1.750000e+01   2.363119e+02   2.697183e+00          1      18567\n",
      "       78    2.112273e+02   2.363194e+02   2.728995e+00          1      18702\n",
      "       79    3.594899e+02   2.363276e+02   2.827037e+00          1      19125\n",
      "       80    2.583737e+02   2.363412e+02   2.904244e+00          1      19428\n",
      "       81    6.518187e+02   2.363485e+02   3.101244e+00          1      20127\n",
      "       82    2.051187e+01   2.363486e+02   3.115911e+00          1      20178\n",
      "       83    2.544373e+02   2.363565e+02   3.194498e+00          1      20481\n",
      "       84    4.747426e+01   2.363568e+02   3.220485e+00          1      20580\n",
      "       85    1.202770e+01   2.363601e+02   3.227989e+00          1      20607\n",
      "       86    5.166539e+02   2.363668e+02   3.371230e+00          1      21150\n",
      "       87    6.480885e+02   2.363741e+02   3.569567e+00          1      21885\n",
      "       88    5.959852e+02   2.363859e+02   3.744392e+00          1      22512\n",
      "       89    4.412198e+01   2.363884e+02   3.768270e+00          1      22599\n",
      "       90    2.990414e+02   2.363896e+02   3.910028e+00          1      23058\n",
      "       91    3.624459e+02   2.363967e+02   4.011522e+00          1      23433\n",
      "       92    3.596299e+01   2.363975e+02   4.033960e+00          1      23508\n",
      "       93    2.895085e+02   2.363991e+02   4.100602e+00          1      23775\n",
      "       94    4.899909e+01   2.363991e+02   4.110731e+00          1      23814\n",
      "       95    3.484957e+02   2.364033e+02   4.196487e+00          1      24141\n",
      "       96    1.300923e+01   2.364035e+02   4.200461e+00          1      24156\n",
      "       97    3.700285e+01   2.364039e+02   4.210938e+00          1      24195\n",
      "       98    4.201287e+02   2.364059e+02   4.332684e+00          1      24642\n",
      "       99    2.555157e+02   2.364083e+02   4.399288e+00          1      24861\n",
      "      100    6.198366e+01   2.364089e+02   4.410245e+00          1      24900\n",
      "\n",
      "Terminating training with status: iteration_limit\n",
      "------------------------------------------------------------------------------\n"
     ]
    },
    {
     "data": {
      "text/plain": [
       "(233.53001336175566, Dict(:x=>-0.659158))"
      ]
     },
     "execution_count": 15,
     "metadata": {},
     "output_type": "execute_result"
    }
   ],
   "source": [
    "infinite_horizon = SDDP.PolicyGraph(\n",
    "    graph, \n",
    "    sense = :Min, \n",
    "    lower_bound = 0.0, \n",
    "    optimizer = with_optimizer(Gurobi.Optimizer, GRB_ENV),\n",
    ") do sp, t\n",
    "    set_silent(sp)\n",
    "    @variable(sp, x_lower <= x <= x_upper, SDDP.State, initial_value = x_0)\n",
    "    @variables(sp, begin\n",
    "        g_t >= 0\n",
    "        g_h >= 0\n",
    "        s   >= 0\n",
    "        inflow  # This time we add inflow as a slack variable\n",
    "        demand  # Same for demand.\n",
    "    end)\n",
    "    @constraints(sp, begin\n",
    "        x.out == x.in - g_h - s + inflow\n",
    "        g_h + g_t == demand\n",
    "    end)\n",
    "    @stageobjective(sp, s + t * g_t)\n",
    "    SDDP.parameterize(sp, Ω, P) do ω\n",
    "        fix(inflow, ω[1])\n",
    "        fix(demand, ω[2])\n",
    "    end\n",
    "end\n",
    "SDDP.train(infinite_horizon, iteration_limit = 100)\n",
    "V = SDDP.ValueFunction(infinite_horizon[1])\n",
    "set_silent(V.model)\n",
    "cost, price = SDDP.evaluate(V, x = 10)"
   ]
  },
  {
   "cell_type": "code",
   "execution_count": 16,
   "metadata": {},
   "outputs": [],
   "source": [
    "SDDP.plot(V, x = x_lower:0.05:x_upper)"
   ]
  }
 ],
 "metadata": {
  "@webio": {
   "lastCommId": null,
   "lastKernelId": null
  },
  "kernelspec": {
   "display_name": "Julia 1.1.0",
   "language": "julia",
   "name": "julia-1.1"
  },
  "language_info": {
   "file_extension": ".jl",
   "mimetype": "application/julia",
   "name": "julia",
   "version": "1.1.0"
  }
 },
 "nbformat": 4,
 "nbformat_minor": 2
}
